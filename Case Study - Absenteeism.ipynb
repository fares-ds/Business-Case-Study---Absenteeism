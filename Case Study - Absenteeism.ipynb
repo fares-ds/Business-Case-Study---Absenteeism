{
 "cells": [
  {
   "cell_type": "markdown",
   "metadata": {},
   "source": [
    "# Business Case Study: Employee Absenteeism\n",
    "\n",
    "The database was created with records of absenteeism at work from July 2007 to July 2010 at a courier company in Brazil.\n",
    "\n"
   ]
  },
  {
   "cell_type": "markdown",
   "metadata": {},
   "source": [
    "# The business Task\n",
    "\n",
    "The exercise will address `Absenteeism` at a company during work time.\n",
    "\n",
    "**Problem:** \n",
    "The problem is that the work environment of today is more:\n",
    "- Competitive\n",
    "- Managers set unachievable business goals\n",
    "- have an elevated risk of becoming unemployed\n",
    "This can be lead to an increase in pressure and stress of the employee. Those factors influence employee health, which is of course indesirable.\n",
    "\n",
    "### What is Absenteeism?\n",
    "Absence from work during normal working hours resulting in temporary incapacity to execute a regular working activity.\n",
    "\n",
    "- Based on what information should we predict whether an employee is expected to be absent or not?\n",
    "- How should we measure absenteeism?\n",
    "\n",
    "### Purpose of the business exercise:\n",
    "\n",
    "Explore whether a person presenting certain characteristics is expected to be away from work at some point in time or not.\n",
    "\n",
    "We want to know for how many working hours any employee could be away from work based on information like:\n",
    "- How far they live from their workplace.\n",
    "- How many children and pets they have.\n",
    "- Do they have higher education?"
   ]
  },
  {
   "cell_type": "code",
   "execution_count": 1,
   "metadata": {},
   "outputs": [],
   "source": [
    "import pandas as pd\n",
    "import numpy as np\n",
    "import matplotlib.pyplot as plt\n",
    "import seaborn as sns\n",
    "\n",
    "%matplotlib inline\n",
    "sns.set_style(\"whitegrid\")"
   ]
  },
  {
   "cell_type": "code",
   "execution_count": 2,
   "metadata": {},
   "outputs": [
    {
     "data": {
      "text/html": [
       "<div>\n",
       "<style scoped>\n",
       "    .dataframe tbody tr th:only-of-type {\n",
       "        vertical-align: middle;\n",
       "    }\n",
       "\n",
       "    .dataframe tbody tr th {\n",
       "        vertical-align: top;\n",
       "    }\n",
       "\n",
       "    .dataframe thead th {\n",
       "        text-align: right;\n",
       "    }\n",
       "</style>\n",
       "<table border=\"1\" class=\"dataframe\">\n",
       "  <thead>\n",
       "    <tr style=\"text-align: right;\">\n",
       "      <th></th>\n",
       "      <th>ID</th>\n",
       "      <th>Reason for Absence</th>\n",
       "      <th>Date</th>\n",
       "      <th>Transportation Expense</th>\n",
       "      <th>Distance to Work</th>\n",
       "      <th>Age</th>\n",
       "      <th>Daily Work Load Average</th>\n",
       "      <th>Body Mass Index</th>\n",
       "      <th>Education</th>\n",
       "      <th>Children</th>\n",
       "      <th>Pets</th>\n",
       "      <th>Absenteeism Time in Hours</th>\n",
       "    </tr>\n",
       "  </thead>\n",
       "  <tbody>\n",
       "    <tr>\n",
       "      <th>0</th>\n",
       "      <td>11</td>\n",
       "      <td>26</td>\n",
       "      <td>07/07/2015</td>\n",
       "      <td>289</td>\n",
       "      <td>36</td>\n",
       "      <td>33</td>\n",
       "      <td>239.554</td>\n",
       "      <td>30</td>\n",
       "      <td>1</td>\n",
       "      <td>2</td>\n",
       "      <td>1</td>\n",
       "      <td>4</td>\n",
       "    </tr>\n",
       "    <tr>\n",
       "      <th>1</th>\n",
       "      <td>36</td>\n",
       "      <td>0</td>\n",
       "      <td>14/07/2015</td>\n",
       "      <td>118</td>\n",
       "      <td>13</td>\n",
       "      <td>50</td>\n",
       "      <td>239.554</td>\n",
       "      <td>31</td>\n",
       "      <td>1</td>\n",
       "      <td>1</td>\n",
       "      <td>0</td>\n",
       "      <td>0</td>\n",
       "    </tr>\n",
       "    <tr>\n",
       "      <th>2</th>\n",
       "      <td>3</td>\n",
       "      <td>23</td>\n",
       "      <td>15/07/2015</td>\n",
       "      <td>179</td>\n",
       "      <td>51</td>\n",
       "      <td>38</td>\n",
       "      <td>239.554</td>\n",
       "      <td>31</td>\n",
       "      <td>1</td>\n",
       "      <td>0</td>\n",
       "      <td>0</td>\n",
       "      <td>2</td>\n",
       "    </tr>\n",
       "    <tr>\n",
       "      <th>3</th>\n",
       "      <td>7</td>\n",
       "      <td>7</td>\n",
       "      <td>16/07/2015</td>\n",
       "      <td>279</td>\n",
       "      <td>5</td>\n",
       "      <td>39</td>\n",
       "      <td>239.554</td>\n",
       "      <td>24</td>\n",
       "      <td>1</td>\n",
       "      <td>2</td>\n",
       "      <td>0</td>\n",
       "      <td>4</td>\n",
       "    </tr>\n",
       "    <tr>\n",
       "      <th>4</th>\n",
       "      <td>11</td>\n",
       "      <td>23</td>\n",
       "      <td>23/07/2015</td>\n",
       "      <td>289</td>\n",
       "      <td>36</td>\n",
       "      <td>33</td>\n",
       "      <td>239.554</td>\n",
       "      <td>30</td>\n",
       "      <td>1</td>\n",
       "      <td>2</td>\n",
       "      <td>1</td>\n",
       "      <td>2</td>\n",
       "    </tr>\n",
       "  </tbody>\n",
       "</table>\n",
       "</div>"
      ],
      "text/plain": [
       "   ID  Reason for Absence        Date  Transportation Expense  \\\n",
       "0  11                  26  07/07/2015                     289   \n",
       "1  36                   0  14/07/2015                     118   \n",
       "2   3                  23  15/07/2015                     179   \n",
       "3   7                   7  16/07/2015                     279   \n",
       "4  11                  23  23/07/2015                     289   \n",
       "\n",
       "   Distance to Work  Age  Daily Work Load Average  Body Mass Index  Education  \\\n",
       "0                36   33                  239.554               30          1   \n",
       "1                13   50                  239.554               31          1   \n",
       "2                51   38                  239.554               31          1   \n",
       "3                 5   39                  239.554               24          1   \n",
       "4                36   33                  239.554               30          1   \n",
       "\n",
       "   Children  Pets  Absenteeism Time in Hours  \n",
       "0         2     1                          4  \n",
       "1         1     0                          0  \n",
       "2         0     0                          2  \n",
       "3         2     0                          4  \n",
       "4         2     1                          2  "
      ]
     },
     "execution_count": 2,
     "metadata": {},
     "output_type": "execute_result"
    }
   ],
   "source": [
    "data = pd.read_csv('data/Absenteeism_data.csv')\n",
    "data.head()"
   ]
  },
  {
   "cell_type": "code",
   "execution_count": 3,
   "metadata": {},
   "outputs": [
    {
     "name": "stdout",
     "output_type": "stream",
     "text": [
      "<class 'pandas.core.frame.DataFrame'>\n",
      "RangeIndex: 700 entries, 0 to 699\n",
      "Data columns (total 12 columns):\n",
      "ID                           700 non-null int64\n",
      "Reason for Absence           700 non-null int64\n",
      "Date                         700 non-null object\n",
      "Transportation Expense       700 non-null int64\n",
      "Distance to Work             700 non-null int64\n",
      "Age                          700 non-null int64\n",
      "Daily Work Load Average      700 non-null float64\n",
      "Body Mass Index              700 non-null int64\n",
      "Education                    700 non-null int64\n",
      "Children                     700 non-null int64\n",
      "Pets                         700 non-null int64\n",
      "Absenteeism Time in Hours    700 non-null int64\n",
      "dtypes: float64(1), int64(10), object(1)\n",
      "memory usage: 65.8+ KB\n"
     ]
    }
   ],
   "source": [
    "data.info()"
   ]
  },
  {
   "cell_type": "markdown",
   "metadata": {},
   "source": [
    "The data doesn't have any missing values."
   ]
  },
  {
   "cell_type": "code",
   "execution_count": 4,
   "metadata": {},
   "outputs": [
    {
     "data": {
      "text/html": [
       "<div>\n",
       "<style scoped>\n",
       "    .dataframe tbody tr th:only-of-type {\n",
       "        vertical-align: middle;\n",
       "    }\n",
       "\n",
       "    .dataframe tbody tr th {\n",
       "        vertical-align: top;\n",
       "    }\n",
       "\n",
       "    .dataframe thead th {\n",
       "        text-align: right;\n",
       "    }\n",
       "</style>\n",
       "<table border=\"1\" class=\"dataframe\">\n",
       "  <thead>\n",
       "    <tr style=\"text-align: right;\">\n",
       "      <th></th>\n",
       "      <th>ID</th>\n",
       "      <th>Reason for Absence</th>\n",
       "      <th>Transportation Expense</th>\n",
       "      <th>Distance to Work</th>\n",
       "      <th>Age</th>\n",
       "      <th>Daily Work Load Average</th>\n",
       "      <th>Body Mass Index</th>\n",
       "      <th>Education</th>\n",
       "      <th>Children</th>\n",
       "      <th>Pets</th>\n",
       "      <th>Absenteeism Time in Hours</th>\n",
       "    </tr>\n",
       "  </thead>\n",
       "  <tbody>\n",
       "    <tr>\n",
       "      <th>count</th>\n",
       "      <td>700.00</td>\n",
       "      <td>700.00</td>\n",
       "      <td>700.00</td>\n",
       "      <td>700.00</td>\n",
       "      <td>700.00</td>\n",
       "      <td>700.00</td>\n",
       "      <td>700.00</td>\n",
       "      <td>700.00</td>\n",
       "      <td>700.00</td>\n",
       "      <td>700.00</td>\n",
       "      <td>700.00</td>\n",
       "    </tr>\n",
       "    <tr>\n",
       "      <th>mean</th>\n",
       "      <td>17.95</td>\n",
       "      <td>19.41</td>\n",
       "      <td>222.35</td>\n",
       "      <td>29.89</td>\n",
       "      <td>36.42</td>\n",
       "      <td>271.80</td>\n",
       "      <td>26.74</td>\n",
       "      <td>1.28</td>\n",
       "      <td>1.02</td>\n",
       "      <td>0.69</td>\n",
       "      <td>6.76</td>\n",
       "    </tr>\n",
       "    <tr>\n",
       "      <th>std</th>\n",
       "      <td>11.03</td>\n",
       "      <td>8.36</td>\n",
       "      <td>66.31</td>\n",
       "      <td>14.80</td>\n",
       "      <td>6.38</td>\n",
       "      <td>40.02</td>\n",
       "      <td>4.25</td>\n",
       "      <td>0.67</td>\n",
       "      <td>1.11</td>\n",
       "      <td>1.17</td>\n",
       "      <td>12.67</td>\n",
       "    </tr>\n",
       "    <tr>\n",
       "      <th>min</th>\n",
       "      <td>1.00</td>\n",
       "      <td>0.00</td>\n",
       "      <td>118.00</td>\n",
       "      <td>5.00</td>\n",
       "      <td>27.00</td>\n",
       "      <td>205.92</td>\n",
       "      <td>19.00</td>\n",
       "      <td>1.00</td>\n",
       "      <td>0.00</td>\n",
       "      <td>0.00</td>\n",
       "      <td>0.00</td>\n",
       "    </tr>\n",
       "    <tr>\n",
       "      <th>25%</th>\n",
       "      <td>9.00</td>\n",
       "      <td>13.00</td>\n",
       "      <td>179.00</td>\n",
       "      <td>16.00</td>\n",
       "      <td>31.00</td>\n",
       "      <td>241.48</td>\n",
       "      <td>24.00</td>\n",
       "      <td>1.00</td>\n",
       "      <td>0.00</td>\n",
       "      <td>0.00</td>\n",
       "      <td>2.00</td>\n",
       "    </tr>\n",
       "    <tr>\n",
       "      <th>50%</th>\n",
       "      <td>18.00</td>\n",
       "      <td>23.00</td>\n",
       "      <td>225.00</td>\n",
       "      <td>26.00</td>\n",
       "      <td>37.00</td>\n",
       "      <td>264.25</td>\n",
       "      <td>25.00</td>\n",
       "      <td>1.00</td>\n",
       "      <td>1.00</td>\n",
       "      <td>0.00</td>\n",
       "      <td>3.00</td>\n",
       "    </tr>\n",
       "    <tr>\n",
       "      <th>75%</th>\n",
       "      <td>28.00</td>\n",
       "      <td>27.00</td>\n",
       "      <td>260.00</td>\n",
       "      <td>50.00</td>\n",
       "      <td>40.00</td>\n",
       "      <td>294.22</td>\n",
       "      <td>31.00</td>\n",
       "      <td>1.00</td>\n",
       "      <td>2.00</td>\n",
       "      <td>1.00</td>\n",
       "      <td>8.00</td>\n",
       "    </tr>\n",
       "    <tr>\n",
       "      <th>max</th>\n",
       "      <td>36.00</td>\n",
       "      <td>28.00</td>\n",
       "      <td>388.00</td>\n",
       "      <td>52.00</td>\n",
       "      <td>58.00</td>\n",
       "      <td>378.88</td>\n",
       "      <td>38.00</td>\n",
       "      <td>4.00</td>\n",
       "      <td>4.00</td>\n",
       "      <td>8.00</td>\n",
       "      <td>120.00</td>\n",
       "    </tr>\n",
       "  </tbody>\n",
       "</table>\n",
       "</div>"
      ],
      "text/plain": [
       "          ID  Reason for Absence  Transportation Expense  Distance to Work  \\\n",
       "count 700.00              700.00                  700.00            700.00   \n",
       "mean   17.95               19.41                  222.35             29.89   \n",
       "std    11.03                8.36                   66.31             14.80   \n",
       "min     1.00                0.00                  118.00              5.00   \n",
       "25%     9.00               13.00                  179.00             16.00   \n",
       "50%    18.00               23.00                  225.00             26.00   \n",
       "75%    28.00               27.00                  260.00             50.00   \n",
       "max    36.00               28.00                  388.00             52.00   \n",
       "\n",
       "         Age  Daily Work Load Average  Body Mass Index  Education  Children  \\\n",
       "count 700.00                   700.00           700.00     700.00    700.00   \n",
       "mean   36.42                   271.80            26.74       1.28      1.02   \n",
       "std     6.38                    40.02             4.25       0.67      1.11   \n",
       "min    27.00                   205.92            19.00       1.00      0.00   \n",
       "25%    31.00                   241.48            24.00       1.00      0.00   \n",
       "50%    37.00                   264.25            25.00       1.00      1.00   \n",
       "75%    40.00                   294.22            31.00       1.00      2.00   \n",
       "max    58.00                   378.88            38.00       4.00      4.00   \n",
       "\n",
       "        Pets  Absenteeism Time in Hours  \n",
       "count 700.00                     700.00  \n",
       "mean    0.69                       6.76  \n",
       "std     1.17                      12.67  \n",
       "min     0.00                       0.00  \n",
       "25%     0.00                       2.00  \n",
       "50%     0.00                       3.00  \n",
       "75%     1.00                       8.00  \n",
       "max     8.00                     120.00  "
      ]
     },
     "execution_count": 4,
     "metadata": {},
     "output_type": "execute_result"
    }
   ],
   "source": [
    "pd.set_option(\"display.float_format\", \"{:.2f}\".format)\n",
    "data.describe()"
   ]
  },
  {
   "cell_type": "code",
   "execution_count": 5,
   "metadata": {},
   "outputs": [
    {
     "name": "stdout",
     "output_type": "stream",
     "text": [
      "===============Column: ID==============\n",
      "Number of unique values: 34\n",
      "Max: 36\n",
      "Min: 1\n",
      "===============Column: Reason for Absence==============\n",
      "Number of unique values: 28\n",
      "Max: 28\n",
      "Min: 0\n",
      "===============Column: Date==============\n",
      "Number of unique values: 432\n",
      "Max: 31/10/2017\n",
      "Min: 01/01/2018\n",
      "===============Column: Transportation Expense==============\n",
      "Number of unique values: 24\n",
      "Max: 388\n",
      "Min: 118\n",
      "===============Column: Distance to Work==============\n",
      "Number of unique values: 24\n",
      "Max: 52\n",
      "Min: 5\n",
      "===============Column: Age==============\n",
      "Number of unique values: 21\n",
      "Max: 58\n",
      "Min: 27\n",
      "===============Column: Daily Work Load Average==============\n",
      "Number of unique values: 35\n",
      "Max: 378.884\n",
      "Min: 205.917\n",
      "===============Column: Body Mass Index==============\n",
      "Number of unique values: 16\n",
      "Max: 38\n",
      "Min: 19\n",
      "===============Column: Education==============\n",
      "Number of unique values: 4\n",
      "Max: 4\n",
      "Min: 1\n",
      "===============Column: Children==============\n",
      "Number of unique values: 5\n",
      "Max: 4\n",
      "Min: 0\n",
      "===============Column: Pets==============\n",
      "Number of unique values: 6\n",
      "Max: 8\n",
      "Min: 0\n",
      "===============Column: Absenteeism Time in Hours==============\n",
      "Number of unique values: 19\n",
      "Max: 120\n",
      "Min: 0\n"
     ]
    }
   ],
   "source": [
    "for column in data.columns:\n",
    "    print(f\"===============Column: {column}==============\")\n",
    "    print(f\"Number of unique values: {data[column].nunique()}\")\n",
    "    print(f\"Max: {data[column].max()}\")\n",
    "    print(f\"Min: {data[column].min()}\")"
   ]
  },
  {
   "cell_type": "code",
   "execution_count": 6,
   "metadata": {},
   "outputs": [
    {
     "data": {
      "text/plain": [
       "Index(['ID', 'Reason for Absence', 'Date', 'Transportation Expense',\n",
       "       'Distance to Work', 'Age', 'Daily Work Load Average', 'Body Mass Index',\n",
       "       'Education', 'Children', 'Pets', 'Absenteeism Time in Hours'],\n",
       "      dtype='object')"
      ]
     },
     "execution_count": 6,
     "metadata": {},
     "output_type": "execute_result"
    }
   ],
   "source": [
    "data.columns"
   ]
  },
  {
   "cell_type": "code",
   "execution_count": 7,
   "metadata": {},
   "outputs": [
    {
     "data": {
      "text/plain": [
       "<matplotlib.axes._subplots.AxesSubplot at 0x2a41ee5b4e0>"
      ]
     },
     "execution_count": 7,
     "metadata": {},
     "output_type": "execute_result"
    },
    {
     "data": {
      "image/png": "[encoded data removed]",
      "text/plain": [
       "<Figure size 432x288 with 1 Axes>"
      ]
     },
     "metadata": {
      "needs_background": "light"
     },
     "output_type": "display_data"
    }
   ],
   "source": [
    "data.ID.value_counts().hist(bins=data.ID.nunique())"
   ]
  },
  {
   "cell_type": "markdown",
   "metadata": {},
   "source": [
    "`ID`: individual identification (in this case we have 34 employees) indicates precisely who has been away during working hours.  Will this information improve our analysis in any way? No, because it's only a label variable (a number that is there to distinguish the individuals from one another, not to carry any numeric information).\n",
    "\n",
    "So we are going to drop this column"
   ]
  },
  {
   "cell_type": "code",
   "execution_count": 8,
   "metadata": {},
   "outputs": [],
   "source": [
    "data.drop('ID', axis=1, inplace=True)"
   ]
  },
  {
   "cell_type": "markdown",
   "metadata": {},
   "source": [
    "`Reason for Absence`: We have `28` reason of absence from `0` to `28`."
   ]
  },
  {
   "cell_type": "code",
   "execution_count": 9,
   "metadata": {},
   "outputs": [
    {
     "data": {
      "image/png": "[encoded data removed]",
      "text/plain": [
       "<Figure size 1440x1440 with 12 Axes>"
      ]
     },
     "metadata": {
      "needs_background": "light"
     },
     "output_type": "display_data"
    }
   ],
   "source": [
    "# Visulazing the distibution of the data for every feature\n",
    "data.hist(edgecolor='black', linewidth=1.2, figsize=(20, 20));"
   ]
  },
  {
   "cell_type": "code",
   "execution_count": 10,
   "metadata": {},
   "outputs": [
    {
     "name": "stdout",
     "output_type": "stream",
     "text": [
      "8      195\n",
      "2      149\n",
      "3      106\n",
      "1       87\n",
      "4       57\n",
      "0       39\n",
      "16      18\n",
      "24      15\n",
      "40       7\n",
      "5        7\n",
      "32       6\n",
      "64       3\n",
      "112      2\n",
      "56       2\n",
      "80       2\n",
      "120      2\n",
      "48       1\n",
      "7        1\n",
      "104      1\n",
      "Name: Absenteeism Time in Hours, dtype: int64\n",
      "0.4482758620689655\n"
     ]
    }
   ],
   "source": [
    "print(f\"{data['Absenteeism Time in Hours'].value_counts()}\")\n",
    "print(f\"{data['Absenteeism Time in Hours'].value_counts()[0] / data['Absenteeism Time in Hours'].value_counts()[1]}\")"
   ]
  },
  {
   "cell_type": "code",
   "execution_count": 11,
   "metadata": {},
   "outputs": [
    {
     "data": {
      "text/plain": [
       "23    147\n",
       "28    110\n",
       "27     66\n",
       "13     52\n",
       "0      38\n",
       "19     36\n",
       "22     32\n",
       "26     31\n",
       "25     29\n",
       "11     24\n",
       "10     22\n",
       "18     21\n",
       "14     18\n",
       "1      16\n",
       "7      13\n",
       "12      8\n",
       "6       6\n",
       "21      6\n",
       "8       5\n",
       "9       4\n",
       "5       3\n",
       "24      3\n",
       "16      3\n",
       "4       2\n",
       "15      2\n",
       "3       1\n",
       "2       1\n",
       "17      1\n",
       "Name: Reason for Absence, dtype: int64"
      ]
     },
     "execution_count": 11,
     "metadata": {},
     "output_type": "execute_result"
    }
   ],
   "source": [
    "data[\"Reason for Absence\"].value_counts()"
   ]
  },
  {
   "cell_type": "code",
   "execution_count": 12,
   "metadata": {},
   "outputs": [
    {
     "data": {
      "text/plain": [
       "Group_4    418\n",
       "Group_1    213\n",
       "Group_3     63\n",
       "Group_2      6\n",
       "Name: Reason for Absence, dtype: int64"
      ]
     },
     "execution_count": 12,
     "metadata": {},
     "output_type": "execute_result"
    }
   ],
   "source": [
    "data[\"Reason for Absence\"] = data[\"Reason for Absence\"].map({0: \"Group_1\", 1: \"Group_1\", 2: \"Group_1\", 3: \"Group_1\", \n",
    "                                                             4: \"Group_1\", 5: \"Group_1\", 6: \"Group_1\", 7: \"Group_1\", \n",
    "                                                             8: \"Group_1\", 9: \"Group_1\", 10: \"Group_1\", 11: \"Group_1\", \n",
    "                                                             12: \"Group_1\", 13: \"Group_1\", 14: \"Group_1\", 15: \"Group_2\", \n",
    "                                                             16: \"Group_2\", 17: \"Group_2\", 17: \"Group_2\", 18: \"Group_3\", \n",
    "                                                             19: \"Group_3\", 20: \"Group_3\", 21: \"Group_3\", 22: \"Group_4\", \n",
    "                                                             23: \"Group_4\", 24: \"Group_4\", 25: \"Group_4\", 26: \"Group_4\", \n",
    "                                                             27: \"Group_4\", 28: \"Group_4\"})\n",
    "# data[\"Reason for Absence\"] = data[\"Reason for Absence\"].astype(\"category\").cat.codes\n",
    "data[\"Reason for Absence\"].value_counts()"
   ]
  },
  {
   "cell_type": "code",
   "execution_count": 13,
   "metadata": {},
   "outputs": [],
   "source": [
    "data_1 = pd.get_dummies(data, columns=['Reason for Absence'])"
   ]
  },
  {
   "cell_type": "code",
   "execution_count": 14,
   "metadata": {},
   "outputs": [
    {
     "data": {
      "text/html": [
       "<div>\n",
       "<style scoped>\n",
       "    .dataframe tbody tr th:only-of-type {\n",
       "        vertical-align: middle;\n",
       "    }\n",
       "\n",
       "    .dataframe tbody tr th {\n",
       "        vertical-align: top;\n",
       "    }\n",
       "\n",
       "    .dataframe thead th {\n",
       "        text-align: right;\n",
       "    }\n",
       "</style>\n",
       "<table border=\"1\" class=\"dataframe\">\n",
       "  <thead>\n",
       "    <tr style=\"text-align: right;\">\n",
       "      <th></th>\n",
       "      <th>Date</th>\n",
       "      <th>Transportation Expense</th>\n",
       "      <th>Distance to Work</th>\n",
       "      <th>Age</th>\n",
       "      <th>Daily Work Load Average</th>\n",
       "      <th>Body Mass Index</th>\n",
       "      <th>Education</th>\n",
       "      <th>Children</th>\n",
       "      <th>Pets</th>\n",
       "      <th>Absenteeism Time in Hours</th>\n",
       "      <th>Reason for Absence_Group_1</th>\n",
       "      <th>Reason for Absence_Group_2</th>\n",
       "      <th>Reason for Absence_Group_3</th>\n",
       "      <th>Reason for Absence_Group_4</th>\n",
       "    </tr>\n",
       "  </thead>\n",
       "  <tbody>\n",
       "    <tr>\n",
       "      <th>0</th>\n",
       "      <td>07/07/2015</td>\n",
       "      <td>289</td>\n",
       "      <td>36</td>\n",
       "      <td>33</td>\n",
       "      <td>239.55</td>\n",
       "      <td>30</td>\n",
       "      <td>1</td>\n",
       "      <td>2</td>\n",
       "      <td>1</td>\n",
       "      <td>4</td>\n",
       "      <td>0</td>\n",
       "      <td>0</td>\n",
       "      <td>0</td>\n",
       "      <td>1</td>\n",
       "    </tr>\n",
       "    <tr>\n",
       "      <th>1</th>\n",
       "      <td>14/07/2015</td>\n",
       "      <td>118</td>\n",
       "      <td>13</td>\n",
       "      <td>50</td>\n",
       "      <td>239.55</td>\n",
       "      <td>31</td>\n",
       "      <td>1</td>\n",
       "      <td>1</td>\n",
       "      <td>0</td>\n",
       "      <td>0</td>\n",
       "      <td>1</td>\n",
       "      <td>0</td>\n",
       "      <td>0</td>\n",
       "      <td>0</td>\n",
       "    </tr>\n",
       "    <tr>\n",
       "      <th>2</th>\n",
       "      <td>15/07/2015</td>\n",
       "      <td>179</td>\n",
       "      <td>51</td>\n",
       "      <td>38</td>\n",
       "      <td>239.55</td>\n",
       "      <td>31</td>\n",
       "      <td>1</td>\n",
       "      <td>0</td>\n",
       "      <td>0</td>\n",
       "      <td>2</td>\n",
       "      <td>0</td>\n",
       "      <td>0</td>\n",
       "      <td>0</td>\n",
       "      <td>1</td>\n",
       "    </tr>\n",
       "    <tr>\n",
       "      <th>3</th>\n",
       "      <td>16/07/2015</td>\n",
       "      <td>279</td>\n",
       "      <td>5</td>\n",
       "      <td>39</td>\n",
       "      <td>239.55</td>\n",
       "      <td>24</td>\n",
       "      <td>1</td>\n",
       "      <td>2</td>\n",
       "      <td>0</td>\n",
       "      <td>4</td>\n",
       "      <td>1</td>\n",
       "      <td>0</td>\n",
       "      <td>0</td>\n",
       "      <td>0</td>\n",
       "    </tr>\n",
       "    <tr>\n",
       "      <th>4</th>\n",
       "      <td>23/07/2015</td>\n",
       "      <td>289</td>\n",
       "      <td>36</td>\n",
       "      <td>33</td>\n",
       "      <td>239.55</td>\n",
       "      <td>30</td>\n",
       "      <td>1</td>\n",
       "      <td>2</td>\n",
       "      <td>1</td>\n",
       "      <td>2</td>\n",
       "      <td>0</td>\n",
       "      <td>0</td>\n",
       "      <td>0</td>\n",
       "      <td>1</td>\n",
       "    </tr>\n",
       "  </tbody>\n",
       "</table>\n",
       "</div>"
      ],
      "text/plain": [
       "         Date  Transportation Expense  Distance to Work  Age  \\\n",
       "0  07/07/2015                     289                36   33   \n",
       "1  14/07/2015                     118                13   50   \n",
       "2  15/07/2015                     179                51   38   \n",
       "3  16/07/2015                     279                 5   39   \n",
       "4  23/07/2015                     289                36   33   \n",
       "\n",
       "   Daily Work Load Average  Body Mass Index  Education  Children  Pets  \\\n",
       "0                   239.55               30          1         2     1   \n",
       "1                   239.55               31          1         1     0   \n",
       "2                   239.55               31          1         0     0   \n",
       "3                   239.55               24          1         2     0   \n",
       "4                   239.55               30          1         2     1   \n",
       "\n",
       "   Absenteeism Time in Hours  Reason for Absence_Group_1  \\\n",
       "0                          4                           0   \n",
       "1                          0                           1   \n",
       "2                          2                           0   \n",
       "3                          4                           1   \n",
       "4                          2                           0   \n",
       "\n",
       "   Reason for Absence_Group_2  Reason for Absence_Group_3  \\\n",
       "0                           0                           0   \n",
       "1                           0                           0   \n",
       "2                           0                           0   \n",
       "3                           0                           0   \n",
       "4                           0                           0   \n",
       "\n",
       "   Reason for Absence_Group_4  \n",
       "0                           1  \n",
       "1                           0  \n",
       "2                           1  \n",
       "3                           0  \n",
       "4                           1  "
      ]
     },
     "execution_count": 14,
     "metadata": {},
     "output_type": "execute_result"
    }
   ],
   "source": [
    "data_1.head()"
   ]
  },
  {
   "cell_type": "code",
   "execution_count": 15,
   "metadata": {},
   "outputs": [
    {
     "data": {
      "text/plain": [
       "Date                           object\n",
       "Transportation Expense          int64\n",
       "Distance to Work                int64\n",
       "Age                             int64\n",
       "Daily Work Load Average       float64\n",
       "Body Mass Index                 int64\n",
       "Education                       int64\n",
       "Children                        int64\n",
       "Pets                            int64\n",
       "Absenteeism Time in Hours       int64\n",
       "Reason for Absence_Group_1      uint8\n",
       "Reason for Absence_Group_2      uint8\n",
       "Reason for Absence_Group_3      uint8\n",
       "Reason for Absence_Group_4      uint8\n",
       "dtype: object"
      ]
     },
     "execution_count": 15,
     "metadata": {},
     "output_type": "execute_result"
    }
   ],
   "source": [
    "data_1.dtypes"
   ]
  },
  {
   "cell_type": "code",
   "execution_count": 16,
   "metadata": {},
   "outputs": [],
   "source": [
    "data_1[\"Date\"] = pd.to_datetime(data_1.Date)"
   ]
  },
  {
   "cell_type": "code",
   "execution_count": 17,
   "metadata": {},
   "outputs": [
    {
     "data": {
      "text/plain": [
       "<matplotlib.axes._subplots.AxesSubplot at 0x2a41ff10080>"
      ]
     },
     "execution_count": 17,
     "metadata": {},
     "output_type": "execute_result"
    },
    {
     "data": {
      "image/png": "[encoded data removed]",
      "text/plain": [
       "<Figure size 432x288 with 1 Axes>"
      ]
     },
     "metadata": {
      "needs_background": "light"
     },
     "output_type": "display_data"
    }
   ],
   "source": [
    "data_1.Date.hist()"
   ]
  },
  {
   "cell_type": "code",
   "execution_count": 18,
   "metadata": {},
   "outputs": [
    {
     "data": {
      "text/html": [
       "<div>\n",
       "<style scoped>\n",
       "    .dataframe tbody tr th:only-of-type {\n",
       "        vertical-align: middle;\n",
       "    }\n",
       "\n",
       "    .dataframe tbody tr th {\n",
       "        vertical-align: top;\n",
       "    }\n",
       "\n",
       "    .dataframe thead th {\n",
       "        text-align: right;\n",
       "    }\n",
       "</style>\n",
       "<table border=\"1\" class=\"dataframe\">\n",
       "  <thead>\n",
       "    <tr style=\"text-align: right;\">\n",
       "      <th></th>\n",
       "      <th>Date</th>\n",
       "      <th>Transportation Expense</th>\n",
       "      <th>Distance to Work</th>\n",
       "      <th>Age</th>\n",
       "      <th>Daily Work Load Average</th>\n",
       "      <th>Body Mass Index</th>\n",
       "      <th>Education</th>\n",
       "      <th>Children</th>\n",
       "      <th>Pets</th>\n",
       "      <th>Absenteeism Time in Hours</th>\n",
       "      <th>Reason for Absence_Group_1</th>\n",
       "      <th>Reason for Absence_Group_2</th>\n",
       "      <th>Reason for Absence_Group_3</th>\n",
       "      <th>Reason for Absence_Group_4</th>\n",
       "      <th>Month</th>\n",
       "    </tr>\n",
       "  </thead>\n",
       "  <tbody>\n",
       "    <tr>\n",
       "      <th>0</th>\n",
       "      <td>2015-07-07</td>\n",
       "      <td>289</td>\n",
       "      <td>36</td>\n",
       "      <td>33</td>\n",
       "      <td>239.55</td>\n",
       "      <td>30</td>\n",
       "      <td>1</td>\n",
       "      <td>2</td>\n",
       "      <td>1</td>\n",
       "      <td>4</td>\n",
       "      <td>0</td>\n",
       "      <td>0</td>\n",
       "      <td>0</td>\n",
       "      <td>1</td>\n",
       "      <td>7</td>\n",
       "    </tr>\n",
       "    <tr>\n",
       "      <th>1</th>\n",
       "      <td>2015-07-14</td>\n",
       "      <td>118</td>\n",
       "      <td>13</td>\n",
       "      <td>50</td>\n",
       "      <td>239.55</td>\n",
       "      <td>31</td>\n",
       "      <td>1</td>\n",
       "      <td>1</td>\n",
       "      <td>0</td>\n",
       "      <td>0</td>\n",
       "      <td>1</td>\n",
       "      <td>0</td>\n",
       "      <td>0</td>\n",
       "      <td>0</td>\n",
       "      <td>7</td>\n",
       "    </tr>\n",
       "    <tr>\n",
       "      <th>2</th>\n",
       "      <td>2015-07-15</td>\n",
       "      <td>179</td>\n",
       "      <td>51</td>\n",
       "      <td>38</td>\n",
       "      <td>239.55</td>\n",
       "      <td>31</td>\n",
       "      <td>1</td>\n",
       "      <td>0</td>\n",
       "      <td>0</td>\n",
       "      <td>2</td>\n",
       "      <td>0</td>\n",
       "      <td>0</td>\n",
       "      <td>0</td>\n",
       "      <td>1</td>\n",
       "      <td>7</td>\n",
       "    </tr>\n",
       "    <tr>\n",
       "      <th>3</th>\n",
       "      <td>2015-07-16</td>\n",
       "      <td>279</td>\n",
       "      <td>5</td>\n",
       "      <td>39</td>\n",
       "      <td>239.55</td>\n",
       "      <td>24</td>\n",
       "      <td>1</td>\n",
       "      <td>2</td>\n",
       "      <td>0</td>\n",
       "      <td>4</td>\n",
       "      <td>1</td>\n",
       "      <td>0</td>\n",
       "      <td>0</td>\n",
       "      <td>0</td>\n",
       "      <td>7</td>\n",
       "    </tr>\n",
       "    <tr>\n",
       "      <th>4</th>\n",
       "      <td>2015-07-23</td>\n",
       "      <td>289</td>\n",
       "      <td>36</td>\n",
       "      <td>33</td>\n",
       "      <td>239.55</td>\n",
       "      <td>30</td>\n",
       "      <td>1</td>\n",
       "      <td>2</td>\n",
       "      <td>1</td>\n",
       "      <td>2</td>\n",
       "      <td>0</td>\n",
       "      <td>0</td>\n",
       "      <td>0</td>\n",
       "      <td>1</td>\n",
       "      <td>7</td>\n",
       "    </tr>\n",
       "  </tbody>\n",
       "</table>\n",
       "</div>"
      ],
      "text/plain": [
       "        Date  Transportation Expense  Distance to Work  Age  \\\n",
       "0 2015-07-07                     289                36   33   \n",
       "1 2015-07-14                     118                13   50   \n",
       "2 2015-07-15                     179                51   38   \n",
       "3 2015-07-16                     279                 5   39   \n",
       "4 2015-07-23                     289                36   33   \n",
       "\n",
       "   Daily Work Load Average  Body Mass Index  Education  Children  Pets  \\\n",
       "0                   239.55               30          1         2     1   \n",
       "1                   239.55               31          1         1     0   \n",
       "2                   239.55               31          1         0     0   \n",
       "3                   239.55               24          1         2     0   \n",
       "4                   239.55               30          1         2     1   \n",
       "\n",
       "   Absenteeism Time in Hours  Reason for Absence_Group_1  \\\n",
       "0                          4                           0   \n",
       "1                          0                           1   \n",
       "2                          2                           0   \n",
       "3                          4                           1   \n",
       "4                          2                           0   \n",
       "\n",
       "   Reason for Absence_Group_2  Reason for Absence_Group_3  \\\n",
       "0                           0                           0   \n",
       "1                           0                           0   \n",
       "2                           0                           0   \n",
       "3                           0                           0   \n",
       "4                           0                           0   \n",
       "\n",
       "   Reason for Absence_Group_4  Month  \n",
       "0                           1      7  \n",
       "1                           0      7  \n",
       "2                           1      7  \n",
       "3                           0      7  \n",
       "4                           1      7  "
      ]
     },
     "execution_count": 18,
     "metadata": {},
     "output_type": "execute_result"
    }
   ],
   "source": [
    "data_1['Month'] = data_1.Date.dt.month\n",
    "data_1.head()"
   ]
  },
  {
   "cell_type": "code",
   "execution_count": 19,
   "metadata": {},
   "outputs": [
    {
     "data": {
      "text/plain": [
       "0      1\n",
       "1      1\n",
       "2      2\n",
       "3      3\n",
       "4      3\n",
       "      ..\n",
       "695    2\n",
       "696    2\n",
       "697    3\n",
       "698    3\n",
       "699    3\n",
       "Name: Weekday, Length: 700, dtype: int64"
      ]
     },
     "execution_count": 19,
     "metadata": {},
     "output_type": "execute_result"
    }
   ],
   "source": [
    "data_1[\"Weekday\"] = data_1.Date.dt.weekday\n",
    "data_1[\"Weekday\"]"
   ]
  },
  {
   "cell_type": "code",
   "execution_count": 20,
   "metadata": {},
   "outputs": [
    {
     "data": {
      "text/plain": [
       "Date                          datetime64[ns]\n",
       "Transportation Expense                 int64\n",
       "Distance to Work                       int64\n",
       "Age                                    int64\n",
       "Daily Work Load Average              float64\n",
       "Body Mass Index                        int64\n",
       "Education                              int64\n",
       "Children                               int64\n",
       "Pets                                   int64\n",
       "Absenteeism Time in Hours              int64\n",
       "Reason for Absence_Group_1             uint8\n",
       "Reason for Absence_Group_2             uint8\n",
       "Reason for Absence_Group_3             uint8\n",
       "Reason for Absence_Group_4             uint8\n",
       "Month                                  int64\n",
       "Weekday                                int64\n",
       "dtype: object"
      ]
     },
     "execution_count": 20,
     "metadata": {},
     "output_type": "execute_result"
    }
   ],
   "source": [
    "data_1.dtypes"
   ]
  },
  {
   "cell_type": "code",
   "execution_count": 21,
   "metadata": {},
   "outputs": [],
   "source": [
    "data_1[\"Education\"] = data_1.Education.map({1: 0, 2: 1, 3: 1, 4: 1})"
   ]
  },
  {
   "cell_type": "code",
   "execution_count": 22,
   "metadata": {},
   "outputs": [
    {
     "data": {
      "text/plain": [
       "0    583\n",
       "1    117\n",
       "Name: Education, dtype: int64"
      ]
     },
     "execution_count": 22,
     "metadata": {},
     "output_type": "execute_result"
    }
   ],
   "source": [
    "data_1.Education.value_counts()"
   ]
  },
  {
   "cell_type": "code",
   "execution_count": 23,
   "metadata": {},
   "outputs": [
    {
     "data": {
      "text/plain": [
       "array([0, 1], dtype=int64)"
      ]
     },
     "execution_count": 23,
     "metadata": {},
     "output_type": "execute_result"
    }
   ],
   "source": [
    "data_1.Education.unique()"
   ]
  },
  {
   "cell_type": "code",
   "execution_count": 43,
   "metadata": {},
   "outputs": [
    {
     "data": {
      "text/plain": [
       "Index(['Date', 'Transportation Expense', 'Distance to Work', 'Age',\n",
       "       'Daily Work Load Average', 'Body Mass Index', 'Children', 'Pets',\n",
       "       'Absenteeism Time in Hours', 'Reason for Absence_Group_1',\n",
       "       'Reason for Absence_Group_2', 'Reason for Absence_Group_3',\n",
       "       'Reason for Absence_Group_4', 'Month', 'Weekday', 'Education_1'],\n",
       "      dtype='object')"
      ]
     },
     "execution_count": 43,
     "metadata": {},
     "output_type": "execute_result"
    }
   ],
   "source": [
    "data_2 = pd.get_dummies(data_1, columns=[\"Education\"], drop_first=True)\n",
    "data_2.columns"
   ]
  },
  {
   "cell_type": "code",
   "execution_count": 44,
   "metadata": {},
   "outputs": [],
   "source": [
    "data_2.drop('Date', axis=1, inplace=True)"
   ]
  },
  {
   "cell_type": "code",
   "execution_count": 45,
   "metadata": {},
   "outputs": [
    {
     "data": {
      "text/plain": [
       "<matplotlib.axes._subplots.AxesSubplot at 0x2a420d9abe0>"
      ]
     },
     "execution_count": 45,
     "metadata": {},
     "output_type": "execute_result"
    },
    {
     "data": {
      "image/png": "[encoded data removed]",
      "text/plain": [
       "<Figure size 1440x1080 with 2 Axes>"
      ]
     },
     "metadata": {
      "needs_background": "light"
     },
     "output_type": "display_data"
    }
   ],
   "source": [
    "plt.figure(figsize=(20, 15))\n",
    "sns.heatmap(data_2.corr(), annot=True)"
   ]
  },
  {
   "cell_type": "code",
   "execution_count": 46,
   "metadata": {},
   "outputs": [
    {
     "data": {
      "text/plain": [
       "<matplotlib.axes._subplots.AxesSubplot at 0x2a41fe0d278>"
      ]
     },
     "execution_count": 46,
     "metadata": {},
     "output_type": "execute_result"
    },
    {
     "data": {
      "image/png": "[encoded data removed]",
      "text/plain": [
       "<Figure size 432x288 with 1 Axes>"
      ]
     },
     "metadata": {
      "needs_background": "light"
     },
     "output_type": "display_data"
    }
   ],
   "source": [
    "data_2['Absenteeism Time in Hours'].hist(bins=data_2['Absenteeism Time in Hours'].nunique())"
   ]
  },
  {
   "cell_type": "code",
   "execution_count": 47,
   "metadata": {},
   "outputs": [],
   "source": [
    "# data_2.drop([\"Distance to Work\", \"Month\", \"Weekday\", \"Age\", \"Daily Work Load Average\"], \n",
    "#             axis=1, inplace=True)"
   ]
  },
  {
   "cell_type": "markdown",
   "metadata": {},
   "source": [
    "# Applying machine learning algorthims"
   ]
  },
  {
   "cell_type": "code",
   "execution_count": 48,
   "metadata": {},
   "outputs": [
    {
     "name": "stdout",
     "output_type": "stream",
     "text": [
      "(700, 14)\n",
      "(700,)\n"
     ]
    }
   ],
   "source": [
    "X = data_2.drop('Absenteeism Time in Hours', axis=1)\n",
    "y = np.where(data_2[\"Absenteeism Time in Hours\"] > data_2[\"Absenteeism Time in Hours\"].median(), 1, 0)\n",
    "\n",
    "print(X.shape)\n",
    "print(y.shape)"
   ]
  },
  {
   "cell_type": "code",
   "execution_count": 49,
   "metadata": {},
   "outputs": [
    {
     "data": {
      "text/plain": [
       "0.45571428571428574"
      ]
     },
     "execution_count": 49,
     "metadata": {},
     "output_type": "execute_result"
    }
   ],
   "source": [
    "y.sum() / y.shape[0]"
   ]
  },
  {
   "cell_type": "code",
   "execution_count": 50,
   "metadata": {},
   "outputs": [],
   "source": [
    "from sklearn.linear_model import LogisticRegression\n",
    "from sklearn.model_selection import train_test_split, cross_val_score\n",
    "from sklearn.preprocessing import StandardScaler\n",
    "\n",
    "model = LogisticRegression(solver=\"liblinear\")\n",
    "\n",
    "x_sc = StandardScaler()\n",
    "X_std = x_sc.fit_transform(X)\n",
    "\n",
    "X_train, X_test, y_train, y_test = train_test_split(X_std, y, test_size=0.2, random_state=20)\n",
    "\n",
    "model.fit(X_train, y_train)\n",
    "\n",
    "y_train_pred = model.predict(X_train)\n",
    "y_test_pred = model.predict(X_test)"
   ]
  },
  {
   "cell_type": "code",
   "execution_count": 51,
   "metadata": {},
   "outputs": [],
   "source": [
    "from sklearn.metrics import confusion_matrix, accuracy_score\n",
    "\n",
    "def accuracy_report(y_test, y_test_pred, sample=\"Test\"):\n",
    "    print(f\"========={sample} data============ :\\n=>Accuracy Score {accuracy_score(y_test, y_test_pred)}\")\n",
    "    print(f\"=>Confusion Matrix :\\n{confusion_matrix(y_test, y_test_pred)}\")"
   ]
  },
  {
   "cell_type": "code",
   "execution_count": 52,
   "metadata": {},
   "outputs": [
    {
     "name": "stdout",
     "output_type": "stream",
     "text": [
      "=========Train data============ :\n",
      "=>Accuracy Score 0.7125\n",
      "=>Confusion Matrix :\n",
      "[[240  67]\n",
      " [ 94 159]]\n"
     ]
    }
   ],
   "source": [
    "accuracy_report(y_train, y_train_pred, \"Train\")"
   ]
  },
  {
   "cell_type": "code",
   "execution_count": 56,
   "metadata": {},
   "outputs": [
    {
     "name": "stdout",
     "output_type": "stream",
     "text": [
      "=========Test data============ :\n",
      "=>Accuracy Score 0.7\n",
      "=>Confusion Matrix :\n",
      "[[57 17]\n",
      " [25 41]]\n"
     ]
    }
   ],
   "source": [
    "accuracy_report(y_test, y_test_pred, \"Test\")"
   ]
  },
  {
   "cell_type": "code",
   "execution_count": 58,
   "metadata": {},
   "outputs": [
    {
     "data": {
      "text/plain": [
       "0.7125"
      ]
     },
     "execution_count": 58,
     "metadata": {},
     "output_type": "execute_result"
    }
   ],
   "source": [
    "model.score(X_train, y_train)"
   ]
  },
  {
   "cell_type": "code",
   "execution_count": 35,
   "metadata": {},
   "outputs": [
    {
     "data": {
      "text/plain": [
       "0.678540226868457"
      ]
     },
     "execution_count": 35,
     "metadata": {},
     "output_type": "execute_result"
    }
   ],
   "source": [
    "scores = cross_val_score(model, X_std, y, cv=10)\n",
    "scores.mean()"
   ]
  },
  {
   "cell_type": "code",
   "execution_count": 36,
   "metadata": {},
   "outputs": [
    {
     "data": {
      "text/plain": [
       "array([-0.16687898])"
      ]
     },
     "execution_count": 36,
     "metadata": {},
     "output_type": "execute_result"
    }
   ],
   "source": [
    "model.intercept_"
   ]
  },
  {
   "cell_type": "code",
   "execution_count": 37,
   "metadata": {},
   "outputs": [
    {
     "data": {
      "text/plain": [
       "LogisticRegression(C=1.0, class_weight=None, dual=False, fit_intercept=True,\n",
       "                   intercept_scaling=1, l1_ratio=None, max_iter=100,\n",
       "                   multi_class='warn', n_jobs=None, penalty='l2',\n",
       "                   random_state=None, solver='liblinear', tol=0.0001, verbose=0,\n",
       "                   warm_start=False)"
      ]
     },
     "execution_count": 37,
     "metadata": {},
     "output_type": "execute_result"
    }
   ],
   "source": [
    "model"
   ]
  },
  {
   "cell_type": "code",
   "execution_count": 38,
   "metadata": {},
   "outputs": [
    {
     "data": {
      "text/html": [
       "<div>\n",
       "<style scoped>\n",
       "    .dataframe tbody tr th:only-of-type {\n",
       "        vertical-align: middle;\n",
       "    }\n",
       "\n",
       "    .dataframe tbody tr th {\n",
       "        vertical-align: top;\n",
       "    }\n",
       "\n",
       "    .dataframe thead th {\n",
       "        text-align: right;\n",
       "    }\n",
       "</style>\n",
       "<table border=\"1\" class=\"dataframe\">\n",
       "  <thead>\n",
       "    <tr style=\"text-align: right;\">\n",
       "      <th></th>\n",
       "      <th>Features_name</th>\n",
       "      <th>Coefficients</th>\n",
       "    </tr>\n",
       "  </thead>\n",
       "  <tbody>\n",
       "    <tr>\n",
       "      <th>0</th>\n",
       "      <td>Transportation Expense</td>\n",
       "      <td>0.57</td>\n",
       "    </tr>\n",
       "    <tr>\n",
       "      <th>1</th>\n",
       "      <td>Distance to Work</td>\n",
       "      <td>-0.01</td>\n",
       "    </tr>\n",
       "    <tr>\n",
       "      <th>2</th>\n",
       "      <td>Age</td>\n",
       "      <td>-0.19</td>\n",
       "    </tr>\n",
       "    <tr>\n",
       "      <th>3</th>\n",
       "      <td>Daily Work Load Average</td>\n",
       "      <td>-0.01</td>\n",
       "    </tr>\n",
       "    <tr>\n",
       "      <th>4</th>\n",
       "      <td>Body Mass Index</td>\n",
       "      <td>0.22</td>\n",
       "    </tr>\n",
       "    <tr>\n",
       "      <th>5</th>\n",
       "      <td>Children</td>\n",
       "      <td>0.28</td>\n",
       "    </tr>\n",
       "    <tr>\n",
       "      <th>6</th>\n",
       "      <td>Pets</td>\n",
       "      <td>-0.31</td>\n",
       "    </tr>\n",
       "    <tr>\n",
       "      <th>7</th>\n",
       "      <td>Reason for Absence_Group_1</td>\n",
       "      <td>0.17</td>\n",
       "    </tr>\n",
       "    <tr>\n",
       "      <th>8</th>\n",
       "      <td>Reason for Absence_Group_2</td>\n",
       "      <td>-0.01</td>\n",
       "    </tr>\n",
       "    <tr>\n",
       "      <th>9</th>\n",
       "      <td>Reason for Absence_Group_3</td>\n",
       "      <td>0.51</td>\n",
       "    </tr>\n",
       "    <tr>\n",
       "      <th>10</th>\n",
       "      <td>Reason for Absence_Group_4</td>\n",
       "      <td>-0.45</td>\n",
       "    </tr>\n",
       "    <tr>\n",
       "      <th>11</th>\n",
       "      <td>Month</td>\n",
       "      <td>-0.02</td>\n",
       "    </tr>\n",
       "    <tr>\n",
       "      <th>12</th>\n",
       "      <td>Weekday</td>\n",
       "      <td>-0.05</td>\n",
       "    </tr>\n",
       "    <tr>\n",
       "      <th>13</th>\n",
       "      <td>Education_1</td>\n",
       "      <td>-0.10</td>\n",
       "    </tr>\n",
       "  </tbody>\n",
       "</table>\n",
       "</div>"
      ],
      "text/plain": [
       "                 Features_name  Coefficients\n",
       "0       Transportation Expense          0.57\n",
       "1             Distance to Work         -0.01\n",
       "2                          Age         -0.19\n",
       "3      Daily Work Load Average         -0.01\n",
       "4              Body Mass Index          0.22\n",
       "5                     Children          0.28\n",
       "6                         Pets         -0.31\n",
       "7   Reason for Absence_Group_1          0.17\n",
       "8   Reason for Absence_Group_2         -0.01\n",
       "9   Reason for Absence_Group_3          0.51\n",
       "10  Reason for Absence_Group_4         -0.45\n",
       "11                       Month         -0.02\n",
       "12                     Weekday         -0.05\n",
       "13                 Education_1         -0.10"
      ]
     },
     "execution_count": 38,
     "metadata": {},
     "output_type": "execute_result"
    }
   ],
   "source": [
    "feature_name = X.columns\n",
    "summary_table = pd.DataFrame(columns=[\"Features_name\"], data=feature_name)\n",
    "summary_table[\"Coefficients\"] = np.transpose(model.coef_)\n",
    "summary_table"
   ]
  },
  {
   "cell_type": "code",
   "execution_count": 39,
   "metadata": {},
   "outputs": [],
   "source": [
    "summary_table.index = summary_table.index + 1\n",
    "summary_table.loc[0] = ['Intercept', model.intercept_[0]]\n",
    "summary_table.sort_index(inplace=True)"
   ]
  },
  {
   "cell_type": "code",
   "execution_count": 40,
   "metadata": {},
   "outputs": [
    {
     "data": {
      "text/html": [
       "<div>\n",
       "<style scoped>\n",
       "    .dataframe tbody tr th:only-of-type {\n",
       "        vertical-align: middle;\n",
       "    }\n",
       "\n",
       "    .dataframe tbody tr th {\n",
       "        vertical-align: top;\n",
       "    }\n",
       "\n",
       "    .dataframe thead th {\n",
       "        text-align: right;\n",
       "    }\n",
       "</style>\n",
       "<table border=\"1\" class=\"dataframe\">\n",
       "  <thead>\n",
       "    <tr style=\"text-align: right;\">\n",
       "      <th></th>\n",
       "      <th>Features_name</th>\n",
       "      <th>Coefficients</th>\n",
       "      <th>Odds_ratio</th>\n",
       "    </tr>\n",
       "  </thead>\n",
       "  <tbody>\n",
       "    <tr>\n",
       "      <th>1</th>\n",
       "      <td>Transportation Expense</td>\n",
       "      <td>0.57</td>\n",
       "      <td>1.77</td>\n",
       "    </tr>\n",
       "    <tr>\n",
       "      <th>10</th>\n",
       "      <td>Reason for Absence_Group_3</td>\n",
       "      <td>0.51</td>\n",
       "      <td>1.66</td>\n",
       "    </tr>\n",
       "    <tr>\n",
       "      <th>6</th>\n",
       "      <td>Children</td>\n",
       "      <td>0.28</td>\n",
       "      <td>1.32</td>\n",
       "    </tr>\n",
       "    <tr>\n",
       "      <th>5</th>\n",
       "      <td>Body Mass Index</td>\n",
       "      <td>0.22</td>\n",
       "      <td>1.25</td>\n",
       "    </tr>\n",
       "    <tr>\n",
       "      <th>8</th>\n",
       "      <td>Reason for Absence_Group_1</td>\n",
       "      <td>0.17</td>\n",
       "      <td>1.19</td>\n",
       "    </tr>\n",
       "    <tr>\n",
       "      <th>2</th>\n",
       "      <td>Distance to Work</td>\n",
       "      <td>-0.01</td>\n",
       "      <td>0.99</td>\n",
       "    </tr>\n",
       "    <tr>\n",
       "      <th>9</th>\n",
       "      <td>Reason for Absence_Group_2</td>\n",
       "      <td>-0.01</td>\n",
       "      <td>0.99</td>\n",
       "    </tr>\n",
       "    <tr>\n",
       "      <th>4</th>\n",
       "      <td>Daily Work Load Average</td>\n",
       "      <td>-0.01</td>\n",
       "      <td>0.99</td>\n",
       "    </tr>\n",
       "    <tr>\n",
       "      <th>12</th>\n",
       "      <td>Month</td>\n",
       "      <td>-0.02</td>\n",
       "      <td>0.98</td>\n",
       "    </tr>\n",
       "    <tr>\n",
       "      <th>13</th>\n",
       "      <td>Weekday</td>\n",
       "      <td>-0.05</td>\n",
       "      <td>0.95</td>\n",
       "    </tr>\n",
       "    <tr>\n",
       "      <th>14</th>\n",
       "      <td>Education_1</td>\n",
       "      <td>-0.10</td>\n",
       "      <td>0.91</td>\n",
       "    </tr>\n",
       "    <tr>\n",
       "      <th>0</th>\n",
       "      <td>Intercept</td>\n",
       "      <td>-0.17</td>\n",
       "      <td>0.85</td>\n",
       "    </tr>\n",
       "    <tr>\n",
       "      <th>3</th>\n",
       "      <td>Age</td>\n",
       "      <td>-0.19</td>\n",
       "      <td>0.83</td>\n",
       "    </tr>\n",
       "    <tr>\n",
       "      <th>7</th>\n",
       "      <td>Pets</td>\n",
       "      <td>-0.31</td>\n",
       "      <td>0.74</td>\n",
       "    </tr>\n",
       "    <tr>\n",
       "      <th>11</th>\n",
       "      <td>Reason for Absence_Group_4</td>\n",
       "      <td>-0.45</td>\n",
       "      <td>0.64</td>\n",
       "    </tr>\n",
       "  </tbody>\n",
       "</table>\n",
       "</div>"
      ],
      "text/plain": [
       "                 Features_name  Coefficients  Odds_ratio\n",
       "1       Transportation Expense          0.57        1.77\n",
       "10  Reason for Absence_Group_3          0.51        1.66\n",
       "6                     Children          0.28        1.32\n",
       "5              Body Mass Index          0.22        1.25\n",
       "8   Reason for Absence_Group_1          0.17        1.19\n",
       "2             Distance to Work         -0.01        0.99\n",
       "9   Reason for Absence_Group_2         -0.01        0.99\n",
       "4      Daily Work Load Average         -0.01        0.99\n",
       "12                       Month         -0.02        0.98\n",
       "13                     Weekday         -0.05        0.95\n",
       "14                 Education_1         -0.10        0.91\n",
       "0                    Intercept         -0.17        0.85\n",
       "3                          Age         -0.19        0.83\n",
       "7                         Pets         -0.31        0.74\n",
       "11  Reason for Absence_Group_4         -0.45        0.64"
      ]
     },
     "execution_count": 40,
     "metadata": {},
     "output_type": "execute_result"
    }
   ],
   "source": [
    "summary_table[\"Odds_ratio\"] = np.exp(summary_table.Coefficients)\n",
    "summary_table.sort_values(by=\"Odds_ratio\", ascending=False)"
   ]
  },
  {
   "cell_type": "markdown",
   "metadata": {},
   "source": [
    "# Random Forest"
   ]
  },
  {
   "cell_type": "code",
   "execution_count": 63,
   "metadata": {},
   "outputs": [
    {
     "name": "stdout",
     "output_type": "stream",
     "text": [
      "Fitting 3 folds for each of 72 candidates, totalling 216 fits\n"
     ]
    },
    {
     "name": "stderr",
     "output_type": "stream",
     "text": [
      "[Parallel(n_jobs=-1)]: Using backend LokyBackend with 4 concurrent workers.\n",
      "[Parallel(n_jobs=-1)]: Done  42 tasks      | elapsed:    4.1s\n",
      "[Parallel(n_jobs=-1)]: Done 192 tasks      | elapsed:   30.1s\n",
      "[Parallel(n_jobs=-1)]: Done 216 out of 216 | elapsed:   33.2s finished\n"
     ]
    }
   ],
   "source": [
    "from sklearn.ensemble import RandomForestClassifier\n",
    "from sklearn.model_selection import GridSearchCV\n",
    "\n",
    "rf_model = RandomForestClassifier(n_estimators=100)\n",
    "\n",
    "X_train, X_test, y_train, y_test = train_test_split(X, y, test_size=0.2, random_state=20)\n",
    "\n",
    "param_grid = {'max_depth':[3, None], 'min_samples_split':[2, 3, 10], \n",
    "              'min_samples_leaf':[1, 3, 10], 'bootstrap':[True, False], \n",
    "              'criterion':[\"gini\", \"entropy\"]}\n",
    "\n",
    "random_forest_grid = GridSearchCV(rf_model, param_grid, scoring=\"accuracy\", \n",
    "                                  n_jobs=-1, verbose=1, cv=3, iid=True)\n",
    "\n",
    "random_forest_grid.fit(X_train, y_train)\n",
    "\n",
    "y_train_pred = random_forest_grid.predict(X_train)\n",
    "y_test_pred = random_forest_grid.predict(X_test)"
   ]
  },
  {
   "cell_type": "code",
   "execution_count": 64,
   "metadata": {},
   "outputs": [
    {
     "name": "stdout",
     "output_type": "stream",
     "text": [
      "=========Test data============ :\n",
      "=>Accuracy Score 0.7285714285714285\n",
      "=>Confusion Matrix :\n",
      "[[53 21]\n",
      " [17 49]]\n"
     ]
    }
   ],
   "source": [
    "accuracy_report(y_test, y_test_pred)"
   ]
  },
  {
   "cell_type": "code",
   "execution_count": 65,
   "metadata": {},
   "outputs": [
    {
     "name": "stdout",
     "output_type": "stream",
     "text": [
      "=========Train data============ :\n",
      "=>Accuracy Score 0.8589285714285714\n",
      "=>Confusion Matrix :\n",
      "[[268  39]\n",
      " [ 40 213]]\n"
     ]
    }
   ],
   "source": [
    "accuracy_report(y_train, y_train_pred, \"Train\")"
   ]
  },
  {
   "cell_type": "code",
   "execution_count": 67,
   "metadata": {},
   "outputs": [],
   "source": [
    "from sklearn.ensemble import GradientBoostingClassifier\n",
    "\n",
    "gbm_model = GradientBoostingClassifier()\n",
    "\n",
    "X_train, X_test, y_train, y_test = train_test_split(X, y, test_size=0.2, random_state=20)\n",
    "\n",
    "gbm_model.fit(X_train, y_train)\n",
    "\n",
    "y_train_pred = gbm_model.predict(X_train)\n",
    "y_test_pred = gbm_model.predict(X_test)"
   ]
  },
  {
   "cell_type": "code",
   "execution_count": 68,
   "metadata": {},
   "outputs": [
    {
     "name": "stdout",
     "output_type": "stream",
     "text": [
      "=========Test data============ :\n",
      "=>Accuracy Score 0.7285714285714285\n",
      "=>Confusion Matrix :\n",
      "[[55 19]\n",
      " [19 47]]\n"
     ]
    }
   ],
   "source": [
    "accuracy_report(y_test, y_test_pred)"
   ]
  },
  {
   "cell_type": "code",
   "execution_count": 69,
   "metadata": {},
   "outputs": [
    {
     "name": "stdout",
     "output_type": "stream",
     "text": [
      "=========Train data============ :\n",
      "=>Accuracy Score 0.8482142857142857\n",
      "=>Confusion Matrix :\n",
      "[[268  39]\n",
      " [ 46 207]]\n"
     ]
    }
   ],
   "source": [
    "accuracy_report(y_train, y_train_pred, \"Train\")"
   ]
  },
  {
   "cell_type": "code",
   "execution_count": 84,
   "metadata": {},
   "outputs": [
    {
     "name": "stdout",
     "output_type": "stream",
     "text": [
      "Fitting 5 folds for each of 50 candidates, totalling 250 fits\n"
     ]
    },
    {
     "name": "stderr",
     "output_type": "stream",
     "text": [
      "[Parallel(n_jobs=-1)]: Using backend LokyBackend with 4 concurrent workers.\n",
      "[Parallel(n_jobs=-1)]: Done  10 tasks      | elapsed:    2.7s\n",
      "[Parallel(n_jobs=-1)]: Done  64 tasks      | elapsed:   28.0s\n",
      "[Parallel(n_jobs=-1)]: Done 154 tasks      | elapsed:   51.2s\n",
      "[Parallel(n_jobs=-1)]: Done 250 out of 250 | elapsed:  1.3min finished\n",
      "C:\\Users\\asus\\Anaconda3\\lib\\site-packages\\sklearn\\model_selection\\_search.py:813: DeprecationWarning: The default of the `iid` parameter will change from True to False in version 0.22 and will be removed in 0.24. This will change numeric results when test-set sizes are unequal.\n",
      "  DeprecationWarning)\n"
     ]
    }
   ],
   "source": [
    "import xgboost as xgb\n",
    "from sklearn.model_selection import RandomizedSearchCV\n",
    "\n",
    "X_train, X_test, y_train, y_test = train_test_split(X, y, test_size=0.2, random_state=20)\n",
    "\n",
    "n_estimators = [100, 500, 900, 1100, 1500]\n",
    "max_depth = [2, 3, 5, 10, 15]\n",
    "booster = ['gbtree', 'gblinear']\n",
    "base_score = [0.25, 0.5, 0.75, 0.99]\n",
    "learning_rate = [0.05, 0.1, 0.15, 0.20]\n",
    "min_child_weight = [1, 2, 3, 4]\n",
    "\n",
    "hyperparameter_grid = {'n_estimators': n_estimators, 'max_depth': max_depth,\n",
    "                       'learning_rate' : learning_rate, 'min_child_weight' : min_child_weight, \n",
    "                       'booster' : booster, 'base_score' : base_score\n",
    "                      }\n",
    "\n",
    "xgb_model = xgb.XGBClassifier()\n",
    "\n",
    "xgb_cv = RandomizedSearchCV(estimator=xgb_model, param_distributions=hyperparameter_grid,\n",
    "                               cv=5, n_iter=50, scoring = 'accuracy',n_jobs =-1,\n",
    "                               verbose = 5, return_train_score = True, random_state=42)\n",
    "\n",
    "\n",
    "xgb_cv.fit(X_train, y_train)"
   ]
  },
  {
   "cell_type": "code",
   "execution_count": 88,
   "metadata": {},
   "outputs": [
    {
     "data": {
      "text/plain": [
       "XGBClassifier(base_score=0.5, booster='gbtree', colsample_bylevel=1,\n",
       "              colsample_bynode=1, colsample_bytree=1, gamma=0,\n",
       "              learning_rate=0.1, max_delta_step=0, max_depth=2,\n",
       "              min_child_weight=1, missing=None, n_estimators=100, n_jobs=1,\n",
       "              nthread=None, objective='binary:logistic', random_state=0,\n",
       "              reg_alpha=0, reg_lambda=1, scale_pos_weight=1, seed=None,\n",
       "              silent=None, subsample=1, verbosity=1)"
      ]
     },
     "execution_count": 88,
     "metadata": {},
     "output_type": "execute_result"
    }
   ],
   "source": [
    "xgb_cv.best_estimator_"
   ]
  },
  {
   "cell_type": "code",
   "execution_count": 90,
   "metadata": {},
   "outputs": [],
   "source": [
    "xgb_best = xgb.XGBClassifier(base_score=0.5, booster='gbtree', colsample_bylevel=1,\n",
    "                         colsample_bynode=1, colsample_bytree=1, gamma=0,\n",
    "                         learning_rate=0.1, max_delta_step=0, max_depth=2,\n",
    "                         min_child_weight=1, missing=None, n_estimators=100, n_jobs=1,\n",
    "                         nthread=None, objective='binary:logistic', random_state=0,\n",
    "                         reg_alpha=0, reg_lambda=1, scale_pos_weight=1, seed=None,\n",
    "                         silent=None, subsample=1, verbosity=1)"
   ]
  },
  {
   "cell_type": "code",
   "execution_count": 92,
   "metadata": {},
   "outputs": [
    {
     "data": {
      "text/plain": [
       "XGBClassifier(base_score=0.5, booster='gbtree', colsample_bylevel=1,\n",
       "              colsample_bynode=1, colsample_bytree=1, gamma=0,\n",
       "              learning_rate=0.1, max_delta_step=0, max_depth=2,\n",
       "              min_child_weight=1, missing=None, n_estimators=100, n_jobs=1,\n",
       "              nthread=None, objective='binary:logistic', random_state=0,\n",
       "              reg_alpha=0, reg_lambda=1, scale_pos_weight=1, seed=None,\n",
       "              silent=None, subsample=1, verbosity=1)"
      ]
     },
     "execution_count": 92,
     "metadata": {},
     "output_type": "execute_result"
    }
   ],
   "source": [
    "xgb_best.fit(X_train, y_train)"
   ]
  },
  {
   "cell_type": "code",
   "execution_count": 93,
   "metadata": {},
   "outputs": [],
   "source": [
    "y_train_pred = xgb_best.predict(X_train)\n",
    "y_test_pred = xgb_best.predict(X_test)"
   ]
  },
  {
   "cell_type": "code",
   "execution_count": 94,
   "metadata": {},
   "outputs": [
    {
     "name": "stdout",
     "output_type": "stream",
     "text": [
      "=========Test data============ :\n",
      "=>Accuracy Score 0.7214285714285714\n",
      "=>Confusion Matrix :\n",
      "[[53 21]\n",
      " [18 48]]\n"
     ]
    }
   ],
   "source": [
    "accuracy_report(y_test, y_test_pred)"
   ]
  },
  {
   "cell_type": "code",
   "execution_count": 95,
   "metadata": {},
   "outputs": [
    {
     "name": "stdout",
     "output_type": "stream",
     "text": [
      "=========Train data============ :\n",
      "=>Accuracy Score 0.7696428571428572\n",
      "=>Confusion Matrix :\n",
      "[[243  64]\n",
      " [ 65 188]]\n"
     ]
    }
   ],
   "source": [
    "accuracy_report(y_train, y_train_pred, \"Train\")"
   ]
  },
  {
   "cell_type": "markdown",
   "metadata": {},
   "source": [
    "# Save the model"
   ]
  },
  {
   "cell_type": "code",
   "execution_count": 87,
   "metadata": {},
   "outputs": [],
   "source": [
    "import pickle\n",
    "\n",
    "with open('model', 'wb') as file:\n",
    "    pickle.dump(xgb_best, file)"
   ]
  },
  {
   "cell_type": "code",
   "execution_count": null,
   "metadata": {},
   "outputs": [],
   "source": []
  }
 ],
 "metadata": {
  "kernelspec": {
   "display_name": "Python 3",
   "language": "python",
   "name": "python3"
  },
  "language_info": {
   "codemirror_mode": {
    "name": "ipython",
    "version": 3
   },
   "file_extension": ".py",
   "mimetype": "text/x-python",
   "name": "python",
   "nbconvert_exporter": "python",
   "pygments_lexer": "ipython3",
   "version": "3.7.0"
  }
 },
 "nbformat": 4,
 "nbformat_minor": 2
}

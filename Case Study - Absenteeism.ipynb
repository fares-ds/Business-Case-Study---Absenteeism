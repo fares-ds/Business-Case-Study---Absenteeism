{
 "cells": [
  {
   "cell_type": "markdown",
   "metadata": {},
   "source": [
    "# Business Case Study: Employee Absenteeism\n",
    "\n",
    "The database was created with records of absenteeism at work from July 2007 to July 2010 at a courier company in Brazil.\n",
    "\n"
   ]
  },
  {
   "cell_type": "markdown",
   "metadata": {},
   "source": [
    "# The business Task\n",
    "\n",
    "The exercise will address `Absenteeism` at a company during work time.\n",
    "\n",
    "**Problem:** \n",
    "The problem is that the work environment of today is more:\n",
    "- Competitive\n",
    "- Managers set unachievable business goals\n",
    "- have an elevated risk of becoming unemployed\n",
    "This can be lead to an increase in pressure and stress of the employee. Those factors influence employee health, which is of course indesirable.\n",
    "\n",
    "### What is Absenteeism?\n",
    "Absence from work during normal working hours resulting in temporary incapacity to execute a regular working activity.\n",
    "\n",
    "- Based on what information should we predict whether an employee is expected to be absent or not?\n",
    "- How should we measure absenteeism?\n",
    "\n",
    "### Purpose of the business exercise:\n",
    "\n",
    "Explore whether a person presenting certain characteristics is expected to be away from work at some point in time or not.\n",
    "\n",
    "We want to know for how many working hours any employee could be away from work based on information like:\n",
    "- How far they live from their workplace.\n",
    "- How many children and pets they have.\n",
    "- Do they have higher education?"
   ]
  },
  {
   "cell_type": "code",
   "execution_count": 1,
   "metadata": {},
   "outputs": [],
   "source": [
    "import pandas as pd\n",
    "import numpy as np\n",
    "\n",
    "import matplotlib.pyplot as plt\n",
    "import seaborn as sns\n",
    "\n",
    "%matplotlib inline\n",
    "sns.set_style(\"whitegrid\")\n",
    "\n",
    "pd.set_option(\"display.max_columns\", 80)\n",
    "pd.set_option(\"display.max_rows\", 80)\n",
    "pd.set_option(\"display.float_format\", \"{:.2f}\".format)"
   ]
  },
  {
   "cell_type": "code",
   "execution_count": 2,
   "metadata": {},
   "outputs": [
    {
     "data": {
      "text/html": [
       "<div>\n",
       "<style scoped>\n",
       "    .dataframe tbody tr th:only-of-type {\n",
       "        vertical-align: middle;\n",
       "    }\n",
       "\n",
       "    .dataframe tbody tr th {\n",
       "        vertical-align: top;\n",
       "    }\n",
       "\n",
       "    .dataframe thead th {\n",
       "        text-align: right;\n",
       "    }\n",
       "</style>\n",
       "<table border=\"1\" class=\"dataframe\">\n",
       "  <thead>\n",
       "    <tr style=\"text-align: right;\">\n",
       "      <th></th>\n",
       "      <th>id</th>\n",
       "      <th>abs_reason</th>\n",
       "      <th>date</th>\n",
       "      <th>trans_exp</th>\n",
       "      <th>work_dist</th>\n",
       "      <th>age</th>\n",
       "      <th>daily_work_avg</th>\n",
       "      <th>body_mass_ind</th>\n",
       "      <th>educ</th>\n",
       "      <th>child</th>\n",
       "      <th>pets</th>\n",
       "      <th>abs_time</th>\n",
       "    </tr>\n",
       "  </thead>\n",
       "  <tbody>\n",
       "    <tr>\n",
       "      <th>0</th>\n",
       "      <td>11</td>\n",
       "      <td>26</td>\n",
       "      <td>07/07/2015</td>\n",
       "      <td>289</td>\n",
       "      <td>36</td>\n",
       "      <td>33</td>\n",
       "      <td>239.55</td>\n",
       "      <td>30</td>\n",
       "      <td>1</td>\n",
       "      <td>2</td>\n",
       "      <td>1</td>\n",
       "      <td>4</td>\n",
       "    </tr>\n",
       "    <tr>\n",
       "      <th>1</th>\n",
       "      <td>36</td>\n",
       "      <td>0</td>\n",
       "      <td>14/07/2015</td>\n",
       "      <td>118</td>\n",
       "      <td>13</td>\n",
       "      <td>50</td>\n",
       "      <td>239.55</td>\n",
       "      <td>31</td>\n",
       "      <td>1</td>\n",
       "      <td>1</td>\n",
       "      <td>0</td>\n",
       "      <td>0</td>\n",
       "    </tr>\n",
       "    <tr>\n",
       "      <th>2</th>\n",
       "      <td>3</td>\n",
       "      <td>23</td>\n",
       "      <td>15/07/2015</td>\n",
       "      <td>179</td>\n",
       "      <td>51</td>\n",
       "      <td>38</td>\n",
       "      <td>239.55</td>\n",
       "      <td>31</td>\n",
       "      <td>1</td>\n",
       "      <td>0</td>\n",
       "      <td>0</td>\n",
       "      <td>2</td>\n",
       "    </tr>\n",
       "    <tr>\n",
       "      <th>3</th>\n",
       "      <td>7</td>\n",
       "      <td>7</td>\n",
       "      <td>16/07/2015</td>\n",
       "      <td>279</td>\n",
       "      <td>5</td>\n",
       "      <td>39</td>\n",
       "      <td>239.55</td>\n",
       "      <td>24</td>\n",
       "      <td>1</td>\n",
       "      <td>2</td>\n",
       "      <td>0</td>\n",
       "      <td>4</td>\n",
       "    </tr>\n",
       "    <tr>\n",
       "      <th>4</th>\n",
       "      <td>11</td>\n",
       "      <td>23</td>\n",
       "      <td>23/07/2015</td>\n",
       "      <td>289</td>\n",
       "      <td>36</td>\n",
       "      <td>33</td>\n",
       "      <td>239.55</td>\n",
       "      <td>30</td>\n",
       "      <td>1</td>\n",
       "      <td>2</td>\n",
       "      <td>1</td>\n",
       "      <td>2</td>\n",
       "    </tr>\n",
       "  </tbody>\n",
       "</table>\n",
       "</div>"
      ],
      "text/plain": [
       "   id  abs_reason        date  trans_exp  work_dist  age  daily_work_avg  \\\n",
       "0  11          26  07/07/2015        289         36   33          239.55   \n",
       "1  36           0  14/07/2015        118         13   50          239.55   \n",
       "2   3          23  15/07/2015        179         51   38          239.55   \n",
       "3   7           7  16/07/2015        279          5   39          239.55   \n",
       "4  11          23  23/07/2015        289         36   33          239.55   \n",
       "\n",
       "   body_mass_ind  educ  child  pets  abs_time  \n",
       "0             30     1      2     1         4  \n",
       "1             31     1      1     0         0  \n",
       "2             31     1      0     0         2  \n",
       "3             24     1      2     0         4  \n",
       "4             30     1      2     1         2  "
      ]
     },
     "execution_count": 2,
     "metadata": {},
     "output_type": "execute_result"
    }
   ],
   "source": [
    "data = pd.read_csv('data/Absenteeism_data.csv')\n",
    "data.columns = ['id', 'abs_reason', 'date', 'trans_exp', 'work_dist', 'age', 'daily_work_avg', \n",
    "                'body_mass_ind', 'educ', 'child', 'pets', 'abs_time']\n",
    "data.head()"
   ]
  },
  {
   "cell_type": "code",
   "execution_count": 3,
   "metadata": {},
   "outputs": [
    {
     "name": "stdout",
     "output_type": "stream",
     "text": [
      "<class 'pandas.core.frame.DataFrame'>\n",
      "RangeIndex: 700 entries, 0 to 699\n",
      "Data columns (total 12 columns):\n",
      " #   Column          Non-Null Count  Dtype  \n",
      "---  ------          --------------  -----  \n",
      " 0   id              700 non-null    int64  \n",
      " 1   abs_reason      700 non-null    int64  \n",
      " 2   date            700 non-null    object \n",
      " 3   trans_exp       700 non-null    int64  \n",
      " 4   work_dist       700 non-null    int64  \n",
      " 5   age             700 non-null    int64  \n",
      " 6   daily_work_avg  700 non-null    float64\n",
      " 7   body_mass_ind   700 non-null    int64  \n",
      " 8   educ            700 non-null    int64  \n",
      " 9   child           700 non-null    int64  \n",
      " 10  pets            700 non-null    int64  \n",
      " 11  abs_time        700 non-null    int64  \n",
      "dtypes: float64(1), int64(10), object(1)\n",
      "memory usage: 65.8+ KB\n"
     ]
    }
   ],
   "source": [
    "data.info()"
   ]
  },
  {
   "cell_type": "markdown",
   "metadata": {},
   "source": [
    "The data doesn't have any missing values."
   ]
  },
  {
   "cell_type": "code",
   "execution_count": 4,
   "metadata": {},
   "outputs": [
    {
     "data": {
      "text/html": [
       "<div>\n",
       "<style scoped>\n",
       "    .dataframe tbody tr th:only-of-type {\n",
       "        vertical-align: middle;\n",
       "    }\n",
       "\n",
       "    .dataframe tbody tr th {\n",
       "        vertical-align: top;\n",
       "    }\n",
       "\n",
       "    .dataframe thead th {\n",
       "        text-align: right;\n",
       "    }\n",
       "</style>\n",
       "<table border=\"1\" class=\"dataframe\">\n",
       "  <thead>\n",
       "    <tr style=\"text-align: right;\">\n",
       "      <th></th>\n",
       "      <th>id</th>\n",
       "      <th>abs_reason</th>\n",
       "      <th>trans_exp</th>\n",
       "      <th>work_dist</th>\n",
       "      <th>age</th>\n",
       "      <th>daily_work_avg</th>\n",
       "      <th>body_mass_ind</th>\n",
       "      <th>educ</th>\n",
       "      <th>child</th>\n",
       "      <th>pets</th>\n",
       "      <th>abs_time</th>\n",
       "    </tr>\n",
       "  </thead>\n",
       "  <tbody>\n",
       "    <tr>\n",
       "      <th>count</th>\n",
       "      <td>700.00</td>\n",
       "      <td>700.00</td>\n",
       "      <td>700.00</td>\n",
       "      <td>700.00</td>\n",
       "      <td>700.00</td>\n",
       "      <td>700.00</td>\n",
       "      <td>700.00</td>\n",
       "      <td>700.00</td>\n",
       "      <td>700.00</td>\n",
       "      <td>700.00</td>\n",
       "      <td>700.00</td>\n",
       "    </tr>\n",
       "    <tr>\n",
       "      <th>mean</th>\n",
       "      <td>17.95</td>\n",
       "      <td>19.41</td>\n",
       "      <td>222.35</td>\n",
       "      <td>29.89</td>\n",
       "      <td>36.42</td>\n",
       "      <td>271.80</td>\n",
       "      <td>26.74</td>\n",
       "      <td>1.28</td>\n",
       "      <td>1.02</td>\n",
       "      <td>0.69</td>\n",
       "      <td>6.76</td>\n",
       "    </tr>\n",
       "    <tr>\n",
       "      <th>std</th>\n",
       "      <td>11.03</td>\n",
       "      <td>8.36</td>\n",
       "      <td>66.31</td>\n",
       "      <td>14.80</td>\n",
       "      <td>6.38</td>\n",
       "      <td>40.02</td>\n",
       "      <td>4.25</td>\n",
       "      <td>0.67</td>\n",
       "      <td>1.11</td>\n",
       "      <td>1.17</td>\n",
       "      <td>12.67</td>\n",
       "    </tr>\n",
       "    <tr>\n",
       "      <th>min</th>\n",
       "      <td>1.00</td>\n",
       "      <td>0.00</td>\n",
       "      <td>118.00</td>\n",
       "      <td>5.00</td>\n",
       "      <td>27.00</td>\n",
       "      <td>205.92</td>\n",
       "      <td>19.00</td>\n",
       "      <td>1.00</td>\n",
       "      <td>0.00</td>\n",
       "      <td>0.00</td>\n",
       "      <td>0.00</td>\n",
       "    </tr>\n",
       "    <tr>\n",
       "      <th>25%</th>\n",
       "      <td>9.00</td>\n",
       "      <td>13.00</td>\n",
       "      <td>179.00</td>\n",
       "      <td>16.00</td>\n",
       "      <td>31.00</td>\n",
       "      <td>241.48</td>\n",
       "      <td>24.00</td>\n",
       "      <td>1.00</td>\n",
       "      <td>0.00</td>\n",
       "      <td>0.00</td>\n",
       "      <td>2.00</td>\n",
       "    </tr>\n",
       "    <tr>\n",
       "      <th>50%</th>\n",
       "      <td>18.00</td>\n",
       "      <td>23.00</td>\n",
       "      <td>225.00</td>\n",
       "      <td>26.00</td>\n",
       "      <td>37.00</td>\n",
       "      <td>264.25</td>\n",
       "      <td>25.00</td>\n",
       "      <td>1.00</td>\n",
       "      <td>1.00</td>\n",
       "      <td>0.00</td>\n",
       "      <td>3.00</td>\n",
       "    </tr>\n",
       "    <tr>\n",
       "      <th>75%</th>\n",
       "      <td>28.00</td>\n",
       "      <td>27.00</td>\n",
       "      <td>260.00</td>\n",
       "      <td>50.00</td>\n",
       "      <td>40.00</td>\n",
       "      <td>294.22</td>\n",
       "      <td>31.00</td>\n",
       "      <td>1.00</td>\n",
       "      <td>2.00</td>\n",
       "      <td>1.00</td>\n",
       "      <td>8.00</td>\n",
       "    </tr>\n",
       "    <tr>\n",
       "      <th>max</th>\n",
       "      <td>36.00</td>\n",
       "      <td>28.00</td>\n",
       "      <td>388.00</td>\n",
       "      <td>52.00</td>\n",
       "      <td>58.00</td>\n",
       "      <td>378.88</td>\n",
       "      <td>38.00</td>\n",
       "      <td>4.00</td>\n",
       "      <td>4.00</td>\n",
       "      <td>8.00</td>\n",
       "      <td>120.00</td>\n",
       "    </tr>\n",
       "  </tbody>\n",
       "</table>\n",
       "</div>"
      ],
      "text/plain": [
       "          id  abs_reason  trans_exp  work_dist    age  daily_work_avg  \\\n",
       "count 700.00      700.00     700.00     700.00 700.00          700.00   \n",
       "mean   17.95       19.41     222.35      29.89  36.42          271.80   \n",
       "std    11.03        8.36      66.31      14.80   6.38           40.02   \n",
       "min     1.00        0.00     118.00       5.00  27.00          205.92   \n",
       "25%     9.00       13.00     179.00      16.00  31.00          241.48   \n",
       "50%    18.00       23.00     225.00      26.00  37.00          264.25   \n",
       "75%    28.00       27.00     260.00      50.00  40.00          294.22   \n",
       "max    36.00       28.00     388.00      52.00  58.00          378.88   \n",
       "\n",
       "       body_mass_ind   educ  child   pets  abs_time  \n",
       "count         700.00 700.00 700.00 700.00    700.00  \n",
       "mean           26.74   1.28   1.02   0.69      6.76  \n",
       "std             4.25   0.67   1.11   1.17     12.67  \n",
       "min            19.00   1.00   0.00   0.00      0.00  \n",
       "25%            24.00   1.00   0.00   0.00      2.00  \n",
       "50%            25.00   1.00   1.00   0.00      3.00  \n",
       "75%            31.00   1.00   2.00   1.00      8.00  \n",
       "max            38.00   4.00   4.00   8.00    120.00  "
      ]
     },
     "execution_count": 4,
     "metadata": {},
     "output_type": "execute_result"
    }
   ],
   "source": [
    "data.describe()"
   ]
  },
  {
   "cell_type": "code",
   "execution_count": 5,
   "metadata": {},
   "outputs": [
    {
     "name": "stdout",
     "output_type": "stream",
     "text": [
      "===============Column: id==============\n",
      "Number of unique values: 34\n",
      "Max: 36\n",
      "Min: 1\n",
      "===============Column: abs_reason==============\n",
      "Number of unique values: 28\n",
      "Max: 28\n",
      "Min: 0\n",
      "===============Column: date==============\n",
      "Number of unique values: 432\n",
      "Max: 31/10/2017\n",
      "Min: 01/01/2018\n",
      "===============Column: trans_exp==============\n",
      "Number of unique values: 24\n",
      "Max: 388\n",
      "Min: 118\n",
      "===============Column: work_dist==============\n",
      "Number of unique values: 24\n",
      "Max: 52\n",
      "Min: 5\n",
      "===============Column: age==============\n",
      "Number of unique values: 21\n",
      "Max: 58\n",
      "Min: 27\n",
      "===============Column: daily_work_avg==============\n",
      "Number of unique values: 35\n",
      "Max: 378.884\n",
      "Min: 205.917\n",
      "===============Column: body_mass_ind==============\n",
      "Number of unique values: 16\n",
      "Max: 38\n",
      "Min: 19\n",
      "===============Column: educ==============\n",
      "Number of unique values: 4\n",
      "Max: 4\n",
      "Min: 1\n",
      "===============Column: child==============\n",
      "Number of unique values: 5\n",
      "Max: 4\n",
      "Min: 0\n",
      "===============Column: pets==============\n",
      "Number of unique values: 6\n",
      "Max: 8\n",
      "Min: 0\n",
      "===============Column: abs_time==============\n",
      "Number of unique values: 19\n",
      "Max: 120\n",
      "Min: 0\n"
     ]
    }
   ],
   "source": [
    "for column in data.columns:\n",
    "    print(f\"===============Column: {column}==============\")\n",
    "    print(f\"Number of unique values: {data[column].nunique()}\")\n",
    "    print(f\"Max: {data[column].max()}\")\n",
    "    print(f\"Min: {data[column].min()}\")"
   ]
  },
  {
   "cell_type": "code",
   "execution_count": 6,
   "metadata": {},
   "outputs": [
    {
     "data": {
      "text/plain": [
       "Index(['id', 'abs_reason', 'date', 'trans_exp', 'work_dist', 'age',\n",
       "       'daily_work_avg', 'body_mass_ind', 'educ', 'child', 'pets', 'abs_time'],\n",
       "      dtype='object')"
      ]
     },
     "execution_count": 6,
     "metadata": {},
     "output_type": "execute_result"
    }
   ],
   "source": [
    "data.columns"
   ]
  },
  {
   "cell_type": "code",
   "execution_count": 7,
   "metadata": {},
   "outputs": [
    {
     "data": {
      "text/plain": [
       "<matplotlib.axes._subplots.AxesSubplot at 0x17550136748>"
      ]
     },
     "execution_count": 7,
     "metadata": {},
     "output_type": "execute_result"
    },
    {
     "data": {
      "image/png": "[encoded data removed]",
      "text/plain": [
       "<Figure size 432x288 with 1 Axes>"
      ]
     },
     "metadata": {},
     "output_type": "display_data"
    }
   ],
   "source": [
    "data['id'].value_counts().hist()"
   ]
  },
  {
   "cell_type": "markdown",
   "metadata": {},
   "source": [
    "`ID`: individual identification (in this case we have 34 employees) indicates precisely who has been away during working hours.  Will this information improve our analysis in any way? No, because it's only a label variable (a number that is there to distinguish the individuals from one another, not to carry any numeric information).\n",
    "\n",
    "So we are going to drop this column"
   ]
  },
  {
   "cell_type": "code",
   "execution_count": 8,
   "metadata": {},
   "outputs": [],
   "source": [
    "data.drop('id', axis=1, inplace=True)"
   ]
  },
  {
   "cell_type": "markdown",
   "metadata": {},
   "source": [
    "`Reason for Absence`: We have `28` reason of absence from `0` to `28`."
   ]
  },
  {
   "cell_type": "code",
   "execution_count": 9,
   "metadata": {},
   "outputs": [
    {
     "data": {
      "image/png": "[encoded data removed]",
      "text/plain": [
       "<Figure size 1440x1440 with 12 Axes>"
      ]
     },
     "metadata": {},
     "output_type": "display_data"
    }
   ],
   "source": [
    "# Visulazing the distibution of the data for every feature\n",
    "data.hist(edgecolor='black', linewidth=1.2, figsize=(20, 20));"
   ]
  },
  {
   "cell_type": "code",
   "execution_count": 10,
   "metadata": {},
   "outputs": [
    {
     "name": "stdout",
     "output_type": "stream",
     "text": [
      "8      195\n",
      "2      149\n",
      "3      106\n",
      "1       87\n",
      "4       57\n",
      "0       39\n",
      "16      18\n",
      "24      15\n",
      "40       7\n",
      "5        7\n",
      "32       6\n",
      "64       3\n",
      "112      2\n",
      "56       2\n",
      "80       2\n",
      "120      2\n",
      "48       1\n",
      "7        1\n",
      "104      1\n",
      "Name: abs_time, dtype: int64\n",
      "0.4482758620689655\n"
     ]
    }
   ],
   "source": [
    "print(f\"{data.abs_time.value_counts()}\")\n",
    "print(f\"{data.abs_time.value_counts()[0] / data.abs_time.value_counts()[1]}\")"
   ]
  },
  {
   "cell_type": "code",
   "execution_count": 11,
   "metadata": {},
   "outputs": [
    {
     "data": {
      "text/plain": [
       "23    147\n",
       "28    110\n",
       "27     66\n",
       "13     52\n",
       "0      38\n",
       "19     36\n",
       "22     32\n",
       "26     31\n",
       "25     29\n",
       "11     24\n",
       "10     22\n",
       "18     21\n",
       "14     18\n",
       "1      16\n",
       "7      13\n",
       "12      8\n",
       "6       6\n",
       "21      6\n",
       "8       5\n",
       "9       4\n",
       "5       3\n",
       "24      3\n",
       "16      3\n",
       "4       2\n",
       "15      2\n",
       "3       1\n",
       "2       1\n",
       "17      1\n",
       "Name: abs_reason, dtype: int64"
      ]
     },
     "execution_count": 11,
     "metadata": {},
     "output_type": "execute_result"
    }
   ],
   "source": [
    "data.abs_reason.value_counts()"
   ]
  },
  {
   "cell_type": "code",
   "execution_count": 12,
   "metadata": {},
   "outputs": [
    {
     "data": {
      "text/plain": [
       "Group_4    418\n",
       "Group_1    213\n",
       "Group_3     63\n",
       "Group_2      6\n",
       "Name: abs_reason, dtype: int64"
      ]
     },
     "execution_count": 12,
     "metadata": {},
     "output_type": "execute_result"
    }
   ],
   "source": [
    "data[\"abs_reason\"] = data[\"abs_reason\"].map({0: \"Group_1\", 1: \"Group_1\", 2: \"Group_1\", \n",
    "                                             3: \"Group_1\", 4: \"Group_1\", 5: \"Group_1\", \n",
    "                                             6: \"Group_1\", 7: \"Group_1\", 8: \"Group_1\", \n",
    "                                             9: \"Group_1\", 10: \"Group_1\", 11: \"Group_1\", \n",
    "                                             12: \"Group_1\", 13: \"Group_1\", 14: \"Group_1\", \n",
    "                                             15: \"Group_2\", 16: \"Group_2\", 17: \"Group_2\", \n",
    "                                             17: \"Group_2\", 18: \"Group_3\", 19: \"Group_3\", \n",
    "                                             20: \"Group_3\", 21: \"Group_3\", 22: \"Group_4\", \n",
    "                                             23: \"Group_4\", 24: \"Group_4\", 25: \"Group_4\", \n",
    "                                             26: \"Group_4\", 27: \"Group_4\", 28: \"Group_4\"})\n",
    "# data[\"Reason for Absence\"] = data[\"Reason for Absence\"].astype(\"category\").cat.codes\n",
    "data[\"abs_reason\"].value_counts()"
   ]
  },
  {
   "cell_type": "code",
   "execution_count": 13,
   "metadata": {},
   "outputs": [],
   "source": [
    "data_1 = pd.get_dummies(data, columns=['abs_reason'])"
   ]
  },
  {
   "cell_type": "code",
   "execution_count": 14,
   "metadata": {},
   "outputs": [
    {
     "data": {
      "text/html": [
       "<div>\n",
       "<style scoped>\n",
       "    .dataframe tbody tr th:only-of-type {\n",
       "        vertical-align: middle;\n",
       "    }\n",
       "\n",
       "    .dataframe tbody tr th {\n",
       "        vertical-align: top;\n",
       "    }\n",
       "\n",
       "    .dataframe thead th {\n",
       "        text-align: right;\n",
       "    }\n",
       "</style>\n",
       "<table border=\"1\" class=\"dataframe\">\n",
       "  <thead>\n",
       "    <tr style=\"text-align: right;\">\n",
       "      <th></th>\n",
       "      <th>date</th>\n",
       "      <th>trans_exp</th>\n",
       "      <th>work_dist</th>\n",
       "      <th>age</th>\n",
       "      <th>daily_work_avg</th>\n",
       "      <th>body_mass_ind</th>\n",
       "      <th>educ</th>\n",
       "      <th>child</th>\n",
       "      <th>pets</th>\n",
       "      <th>abs_time</th>\n",
       "      <th>abs_reason_Group_1</th>\n",
       "      <th>abs_reason_Group_2</th>\n",
       "      <th>abs_reason_Group_3</th>\n",
       "      <th>abs_reason_Group_4</th>\n",
       "    </tr>\n",
       "  </thead>\n",
       "  <tbody>\n",
       "    <tr>\n",
       "      <th>0</th>\n",
       "      <td>07/07/2015</td>\n",
       "      <td>289</td>\n",
       "      <td>36</td>\n",
       "      <td>33</td>\n",
       "      <td>239.55</td>\n",
       "      <td>30</td>\n",
       "      <td>1</td>\n",
       "      <td>2</td>\n",
       "      <td>1</td>\n",
       "      <td>4</td>\n",
       "      <td>0</td>\n",
       "      <td>0</td>\n",
       "      <td>0</td>\n",
       "      <td>1</td>\n",
       "    </tr>\n",
       "    <tr>\n",
       "      <th>1</th>\n",
       "      <td>14/07/2015</td>\n",
       "      <td>118</td>\n",
       "      <td>13</td>\n",
       "      <td>50</td>\n",
       "      <td>239.55</td>\n",
       "      <td>31</td>\n",
       "      <td>1</td>\n",
       "      <td>1</td>\n",
       "      <td>0</td>\n",
       "      <td>0</td>\n",
       "      <td>1</td>\n",
       "      <td>0</td>\n",
       "      <td>0</td>\n",
       "      <td>0</td>\n",
       "    </tr>\n",
       "    <tr>\n",
       "      <th>2</th>\n",
       "      <td>15/07/2015</td>\n",
       "      <td>179</td>\n",
       "      <td>51</td>\n",
       "      <td>38</td>\n",
       "      <td>239.55</td>\n",
       "      <td>31</td>\n",
       "      <td>1</td>\n",
       "      <td>0</td>\n",
       "      <td>0</td>\n",
       "      <td>2</td>\n",
       "      <td>0</td>\n",
       "      <td>0</td>\n",
       "      <td>0</td>\n",
       "      <td>1</td>\n",
       "    </tr>\n",
       "    <tr>\n",
       "      <th>3</th>\n",
       "      <td>16/07/2015</td>\n",
       "      <td>279</td>\n",
       "      <td>5</td>\n",
       "      <td>39</td>\n",
       "      <td>239.55</td>\n",
       "      <td>24</td>\n",
       "      <td>1</td>\n",
       "      <td>2</td>\n",
       "      <td>0</td>\n",
       "      <td>4</td>\n",
       "      <td>1</td>\n",
       "      <td>0</td>\n",
       "      <td>0</td>\n",
       "      <td>0</td>\n",
       "    </tr>\n",
       "    <tr>\n",
       "      <th>4</th>\n",
       "      <td>23/07/2015</td>\n",
       "      <td>289</td>\n",
       "      <td>36</td>\n",
       "      <td>33</td>\n",
       "      <td>239.55</td>\n",
       "      <td>30</td>\n",
       "      <td>1</td>\n",
       "      <td>2</td>\n",
       "      <td>1</td>\n",
       "      <td>2</td>\n",
       "      <td>0</td>\n",
       "      <td>0</td>\n",
       "      <td>0</td>\n",
       "      <td>1</td>\n",
       "    </tr>\n",
       "  </tbody>\n",
       "</table>\n",
       "</div>"
      ],
      "text/plain": [
       "         date  trans_exp  work_dist  age  daily_work_avg  body_mass_ind  educ  \\\n",
       "0  07/07/2015        289         36   33          239.55             30     1   \n",
       "1  14/07/2015        118         13   50          239.55             31     1   \n",
       "2  15/07/2015        179         51   38          239.55             31     1   \n",
       "3  16/07/2015        279          5   39          239.55             24     1   \n",
       "4  23/07/2015        289         36   33          239.55             30     1   \n",
       "\n",
       "   child  pets  abs_time  abs_reason_Group_1  abs_reason_Group_2  \\\n",
       "0      2     1         4                   0                   0   \n",
       "1      1     0         0                   1                   0   \n",
       "2      0     0         2                   0                   0   \n",
       "3      2     0         4                   1                   0   \n",
       "4      2     1         2                   0                   0   \n",
       "\n",
       "   abs_reason_Group_3  abs_reason_Group_4  \n",
       "0                   0                   1  \n",
       "1                   0                   0  \n",
       "2                   0                   1  \n",
       "3                   0                   0  \n",
       "4                   0                   1  "
      ]
     },
     "execution_count": 14,
     "metadata": {},
     "output_type": "execute_result"
    }
   ],
   "source": [
    "data_1.head()"
   ]
  },
  {
   "cell_type": "code",
   "execution_count": 15,
   "metadata": {},
   "outputs": [
    {
     "data": {
      "text/plain": [
       "date                   object\n",
       "trans_exp               int64\n",
       "work_dist               int64\n",
       "age                     int64\n",
       "daily_work_avg        float64\n",
       "body_mass_ind           int64\n",
       "educ                    int64\n",
       "child                   int64\n",
       "pets                    int64\n",
       "abs_time                int64\n",
       "abs_reason_Group_1      uint8\n",
       "abs_reason_Group_2      uint8\n",
       "abs_reason_Group_3      uint8\n",
       "abs_reason_Group_4      uint8\n",
       "dtype: object"
      ]
     },
     "execution_count": 15,
     "metadata": {},
     "output_type": "execute_result"
    }
   ],
   "source": [
    "data_1.dtypes"
   ]
  },
  {
   "cell_type": "code",
   "execution_count": 16,
   "metadata": {},
   "outputs": [],
   "source": [
    "data_1[\"date\"] = pd.to_datetime(data_1.date)"
   ]
  },
  {
   "cell_type": "code",
   "execution_count": 17,
   "metadata": {},
   "outputs": [
    {
     "data": {
      "text/plain": [
       "<matplotlib.axes._subplots.AxesSubplot at 0x175504f3198>"
      ]
     },
     "execution_count": 17,
     "metadata": {},
     "output_type": "execute_result"
    },
    {
     "data": {
      "image/png": "[encoded data removed]",
      "text/plain": [
       "<Figure size 432x288 with 1 Axes>"
      ]
     },
     "metadata": {},
     "output_type": "display_data"
    }
   ],
   "source": [
    "data_1.date.hist()"
   ]
  },
  {
   "cell_type": "code",
   "execution_count": 18,
   "metadata": {},
   "outputs": [
    {
     "data": {
      "text/html": [
       "<div>\n",
       "<style scoped>\n",
       "    .dataframe tbody tr th:only-of-type {\n",
       "        vertical-align: middle;\n",
       "    }\n",
       "\n",
       "    .dataframe tbody tr th {\n",
       "        vertical-align: top;\n",
       "    }\n",
       "\n",
       "    .dataframe thead th {\n",
       "        text-align: right;\n",
       "    }\n",
       "</style>\n",
       "<table border=\"1\" class=\"dataframe\">\n",
       "  <thead>\n",
       "    <tr style=\"text-align: right;\">\n",
       "      <th></th>\n",
       "      <th>date</th>\n",
       "      <th>trans_exp</th>\n",
       "      <th>work_dist</th>\n",
       "      <th>age</th>\n",
       "      <th>daily_work_avg</th>\n",
       "      <th>body_mass_ind</th>\n",
       "      <th>educ</th>\n",
       "      <th>child</th>\n",
       "      <th>pets</th>\n",
       "      <th>abs_time</th>\n",
       "      <th>abs_reason_Group_1</th>\n",
       "      <th>abs_reason_Group_2</th>\n",
       "      <th>abs_reason_Group_3</th>\n",
       "      <th>abs_reason_Group_4</th>\n",
       "      <th>Month</th>\n",
       "    </tr>\n",
       "  </thead>\n",
       "  <tbody>\n",
       "    <tr>\n",
       "      <th>0</th>\n",
       "      <td>2015-07-07</td>\n",
       "      <td>289</td>\n",
       "      <td>36</td>\n",
       "      <td>33</td>\n",
       "      <td>239.55</td>\n",
       "      <td>30</td>\n",
       "      <td>1</td>\n",
       "      <td>2</td>\n",
       "      <td>1</td>\n",
       "      <td>4</td>\n",
       "      <td>0</td>\n",
       "      <td>0</td>\n",
       "      <td>0</td>\n",
       "      <td>1</td>\n",
       "      <td>7</td>\n",
       "    </tr>\n",
       "    <tr>\n",
       "      <th>1</th>\n",
       "      <td>2015-07-14</td>\n",
       "      <td>118</td>\n",
       "      <td>13</td>\n",
       "      <td>50</td>\n",
       "      <td>239.55</td>\n",
       "      <td>31</td>\n",
       "      <td>1</td>\n",
       "      <td>1</td>\n",
       "      <td>0</td>\n",
       "      <td>0</td>\n",
       "      <td>1</td>\n",
       "      <td>0</td>\n",
       "      <td>0</td>\n",
       "      <td>0</td>\n",
       "      <td>7</td>\n",
       "    </tr>\n",
       "    <tr>\n",
       "      <th>2</th>\n",
       "      <td>2015-07-15</td>\n",
       "      <td>179</td>\n",
       "      <td>51</td>\n",
       "      <td>38</td>\n",
       "      <td>239.55</td>\n",
       "      <td>31</td>\n",
       "      <td>1</td>\n",
       "      <td>0</td>\n",
       "      <td>0</td>\n",
       "      <td>2</td>\n",
       "      <td>0</td>\n",
       "      <td>0</td>\n",
       "      <td>0</td>\n",
       "      <td>1</td>\n",
       "      <td>7</td>\n",
       "    </tr>\n",
       "    <tr>\n",
       "      <th>3</th>\n",
       "      <td>2015-07-16</td>\n",
       "      <td>279</td>\n",
       "      <td>5</td>\n",
       "      <td>39</td>\n",
       "      <td>239.55</td>\n",
       "      <td>24</td>\n",
       "      <td>1</td>\n",
       "      <td>2</td>\n",
       "      <td>0</td>\n",
       "      <td>4</td>\n",
       "      <td>1</td>\n",
       "      <td>0</td>\n",
       "      <td>0</td>\n",
       "      <td>0</td>\n",
       "      <td>7</td>\n",
       "    </tr>\n",
       "    <tr>\n",
       "      <th>4</th>\n",
       "      <td>2015-07-23</td>\n",
       "      <td>289</td>\n",
       "      <td>36</td>\n",
       "      <td>33</td>\n",
       "      <td>239.55</td>\n",
       "      <td>30</td>\n",
       "      <td>1</td>\n",
       "      <td>2</td>\n",
       "      <td>1</td>\n",
       "      <td>2</td>\n",
       "      <td>0</td>\n",
       "      <td>0</td>\n",
       "      <td>0</td>\n",
       "      <td>1</td>\n",
       "      <td>7</td>\n",
       "    </tr>\n",
       "  </tbody>\n",
       "</table>\n",
       "</div>"
      ],
      "text/plain": [
       "        date  trans_exp  work_dist  age  daily_work_avg  body_mass_ind  educ  \\\n",
       "0 2015-07-07        289         36   33          239.55             30     1   \n",
       "1 2015-07-14        118         13   50          239.55             31     1   \n",
       "2 2015-07-15        179         51   38          239.55             31     1   \n",
       "3 2015-07-16        279          5   39          239.55             24     1   \n",
       "4 2015-07-23        289         36   33          239.55             30     1   \n",
       "\n",
       "   child  pets  abs_time  abs_reason_Group_1  abs_reason_Group_2  \\\n",
       "0      2     1         4                   0                   0   \n",
       "1      1     0         0                   1                   0   \n",
       "2      0     0         2                   0                   0   \n",
       "3      2     0         4                   1                   0   \n",
       "4      2     1         2                   0                   0   \n",
       "\n",
       "   abs_reason_Group_3  abs_reason_Group_4  Month  \n",
       "0                   0                   1      7  \n",
       "1                   0                   0      7  \n",
       "2                   0                   1      7  \n",
       "3                   0                   0      7  \n",
       "4                   0                   1      7  "
      ]
     },
     "execution_count": 18,
     "metadata": {},
     "output_type": "execute_result"
    }
   ],
   "source": [
    "data_1['Month'] = data_1.date.dt.month\n",
    "data_1.head()"
   ]
  },
  {
   "cell_type": "code",
   "execution_count": 19,
   "metadata": {},
   "outputs": [
    {
     "data": {
      "text/plain": [
       "0      1\n",
       "1      1\n",
       "2      2\n",
       "3      3\n",
       "4      3\n",
       "      ..\n",
       "695    2\n",
       "696    2\n",
       "697    3\n",
       "698    3\n",
       "699    3\n",
       "Name: Weekday, Length: 700, dtype: int64"
      ]
     },
     "execution_count": 19,
     "metadata": {},
     "output_type": "execute_result"
    }
   ],
   "source": [
    "data_1[\"Weekday\"] = data_1.date.dt.weekday\n",
    "data_1[\"Weekday\"]"
   ]
  },
  {
   "cell_type": "code",
   "execution_count": 20,
   "metadata": {},
   "outputs": [
    {
     "data": {
      "text/plain": [
       "date                  datetime64[ns]\n",
       "trans_exp                      int64\n",
       "work_dist                      int64\n",
       "age                            int64\n",
       "daily_work_avg               float64\n",
       "body_mass_ind                  int64\n",
       "educ                           int64\n",
       "child                          int64\n",
       "pets                           int64\n",
       "abs_time                       int64\n",
       "abs_reason_Group_1             uint8\n",
       "abs_reason_Group_2             uint8\n",
       "abs_reason_Group_3             uint8\n",
       "abs_reason_Group_4             uint8\n",
       "Month                          int64\n",
       "Weekday                        int64\n",
       "dtype: object"
      ]
     },
     "execution_count": 20,
     "metadata": {},
     "output_type": "execute_result"
    }
   ],
   "source": [
    "data_1.dtypes"
   ]
  },
  {
   "cell_type": "code",
   "execution_count": 21,
   "metadata": {},
   "outputs": [],
   "source": [
    "data_1[\"educ\"] = data_1.educ.map({1: 0, 2: 1, 3: 1, 4: 1})"
   ]
  },
  {
   "cell_type": "code",
   "execution_count": 22,
   "metadata": {},
   "outputs": [
    {
     "data": {
      "text/plain": [
       "0    583\n",
       "1    117\n",
       "Name: educ, dtype: int64"
      ]
     },
     "execution_count": 22,
     "metadata": {},
     "output_type": "execute_result"
    }
   ],
   "source": [
    "data_1.educ.value_counts()"
   ]
  },
  {
   "cell_type": "code",
   "execution_count": 23,
   "metadata": {},
   "outputs": [],
   "source": [
    "data_1.drop('date', axis=1, inplace=True)"
   ]
  },
  {
   "cell_type": "code",
   "execution_count": 24,
   "metadata": {},
   "outputs": [
    {
     "data": {
      "text/plain": [
       "<matplotlib.axes._subplots.AxesSubplot at 0x1755061f2e8>"
      ]
     },
     "execution_count": 24,
     "metadata": {},
     "output_type": "execute_result"
    },
    {
     "data": {
      "image/png": "[encoded data removed]",
      "text/plain": [
       "<Figure size 1440x1080 with 2 Axes>"
      ]
     },
     "metadata": {},
     "output_type": "display_data"
    }
   ],
   "source": [
    "plt.figure(figsize=(20, 15))\n",
    "sns.heatmap(data_1.corr(), annot=True)"
   ]
  },
  {
   "cell_type": "code",
   "execution_count": 25,
   "metadata": {},
   "outputs": [
    {
     "data": {
      "text/plain": [
       "<matplotlib.axes._subplots.AxesSubplot at 0x175516000b8>"
      ]
     },
     "execution_count": 25,
     "metadata": {},
     "output_type": "execute_result"
    },
    {
     "data": {
      "image/png": "[encoded data removed]",
      "text/plain": [
       "<Figure size 432x288 with 1 Axes>"
      ]
     },
     "metadata": {},
     "output_type": "display_data"
    }
   ],
   "source": [
    "data_1['abs_time'].hist(bins=data_1['abs_time'].nunique())"
   ]
  },
  {
   "cell_type": "code",
   "execution_count": 26,
   "metadata": {},
   "outputs": [
    {
     "data": {
      "text/plain": [
       "0       39\n",
       "1       87\n",
       "2      149\n",
       "3      106\n",
       "4       57\n",
       "5        7\n",
       "7        1\n",
       "8      195\n",
       "16      18\n",
       "24      15\n",
       "32       6\n",
       "40       7\n",
       "48       1\n",
       "56       2\n",
       "64       3\n",
       "80       2\n",
       "104      1\n",
       "112      2\n",
       "120      2\n",
       "Name: abs_time, dtype: int64"
      ]
     },
     "execution_count": 26,
     "metadata": {},
     "output_type": "execute_result"
    }
   ],
   "source": [
    "data_1.abs_time.value_counts().sort_index()"
   ]
  },
  {
   "cell_type": "markdown",
   "metadata": {},
   "source": [
    "# Applying machine learning algorthims"
   ]
  },
  {
   "cell_type": "code",
   "execution_count": 27,
   "metadata": {},
   "outputs": [],
   "source": [
    "from sklearn.metrics import accuracy_score, confusion_matrix, precision_score, recall_score, f1_score\n",
    "\n",
    "def print_score(clf, X_train, y_train, X_test, y_test, train=True):\n",
    "    if train:\n",
    "        pred = clf.predict(X_train)\n",
    "        print(\"Train Result:\\n================================================\")\n",
    "        print(f\"Accuracy Score: {accuracy_score(y_train, pred) * 100:.2f}%\")\n",
    "        print(\"_______________________________________________\")\n",
    "        print(\"Classification Report:\", end='')\n",
    "        print(f\"\\tPrecision Score: {precision_score(y_train, pred) * 100:.2f}%\")\n",
    "        print(f\"\\t\\t\\tRecall Score: {recall_score(y_train, pred) * 100:.2f}%\")\n",
    "        print(f\"\\t\\t\\tF1 score: {f1_score(y_train, pred) * 100:.2f}%\")\n",
    "        print(\"_______________________________________________\")\n",
    "        print(f\"Confusion Matrix: \\n {confusion_matrix(y_train, pred)}\\n\")\n",
    "        \n",
    "    elif train==False:\n",
    "        pred = clf.predict(X_test)\n",
    "        print(\"Test Result:\\n================================================\")        \n",
    "        print(f\"Accuracy Score: {accuracy_score(y_test, pred) * 100:.2f}%\")\n",
    "        print(\"_______________________________________________\")\n",
    "        print(\"Classification Report:\", end='')\n",
    "        print(f\"\\tPrecision Score: {precision_score(y_test, pred) * 100:.2f}%\")\n",
    "        print(f\"\\t\\t\\tRecall Score: {recall_score(y_test, pred) * 100:.2f}%\")\n",
    "        print(f\"\\t\\t\\tF1 score: {f1_score(y_test, pred) * 100:.2f}%\")\n",
    "        print(\"_______________________________________________\")\n",
    "        print(f\"Confusion Matrix: \\n {confusion_matrix(y_test, pred)}\\n\")"
   ]
  },
  {
   "cell_type": "code",
   "execution_count": 28,
   "metadata": {},
   "outputs": [],
   "source": [
    "from sklearn.model_selection import train_test_split, cross_val_score\n",
    "\n",
    "X = data_1.drop('abs_time', axis=1)\n",
    "y = np.where(data_1[\"abs_time\"] > data_1[\"abs_time\"].median(), 1, 0)\n",
    "\n",
    "X_train, X_test, y_train, y_test = train_test_split(X, y, test_size=0.3, random_state=20)"
   ]
  },
  {
   "cell_type": "code",
   "execution_count": 29,
   "metadata": {},
   "outputs": [
    {
     "data": {
      "text/plain": [
       "trans_exp               int64\n",
       "work_dist               int64\n",
       "age                     int64\n",
       "daily_work_avg        float64\n",
       "body_mass_ind           int64\n",
       "educ                    int64\n",
       "child                   int64\n",
       "pets                    int64\n",
       "abs_reason_Group_1      uint8\n",
       "abs_reason_Group_2      uint8\n",
       "abs_reason_Group_3      uint8\n",
       "abs_reason_Group_4      uint8\n",
       "Month                   int64\n",
       "Weekday                 int64\n",
       "dtype: object"
      ]
     },
     "execution_count": 29,
     "metadata": {},
     "output_type": "execute_result"
    }
   ],
   "source": [
    "X_train.dtypes"
   ]
  },
  {
   "cell_type": "markdown",
   "metadata": {},
   "source": [
    "## Logistic Regression"
   ]
  },
  {
   "cell_type": "code",
   "execution_count": 30,
   "metadata": {},
   "outputs": [
    {
     "name": "stdout",
     "output_type": "stream",
     "text": [
      "Train Result:\n",
      "================================================\n",
      "Accuracy Score: 71.84%\n",
      "_______________________________________________\n",
      "Classification Report:\tPrecision Score: 71.21%\n",
      "\t\t\tRecall Score: 63.51%\n",
      "\t\t\tF1 score: 67.14%\n",
      "_______________________________________________\n",
      "Confusion Matrix: \n",
      " [[211  57]\n",
      " [ 81 141]]\n",
      "\n",
      "Test Result:\n",
      "================================================\n",
      "Accuracy Score: 69.05%\n",
      "_______________________________________________\n",
      "Classification Report:\tPrecision Score: 69.05%\n",
      "\t\t\tRecall Score: 59.79%\n",
      "\t\t\tF1 score: 64.09%\n",
      "_______________________________________________\n",
      "Confusion Matrix: \n",
      " [[87 26]\n",
      " [39 58]]\n",
      "\n"
     ]
    }
   ],
   "source": [
    "from sklearn.linear_model import LogisticRegression\n",
    "\n",
    "lr_classifier = LogisticRegression(solver='liblinear', penalty='l2')\n",
    "lr_classifier.fit(X_train, y_train)\n",
    "\n",
    "print_score(lr_classifier, X_train, y_train, X_test, y_test, train=True)\n",
    "print_score(lr_classifier, X_train, y_train, X_test, y_test, train=False)"
   ]
  },
  {
   "cell_type": "markdown",
   "metadata": {},
   "source": [
    "### Cross Validation Score for Logistic Regression"
   ]
  },
  {
   "cell_type": "code",
   "execution_count": 31,
   "metadata": {},
   "outputs": [
    {
     "name": "stdout",
     "output_type": "stream",
     "text": [
      "[0.7642857142857142, 0.5714285714285714, 0.6857142857142857, 0.55, 0.7714285714285715]\n",
      "Logistic Accuracy: 66.86% +/- (9.33)\n"
     ]
    }
   ],
   "source": [
    "from sklearn.model_selection import cross_val_score\n",
    "\n",
    "scores = cross_val_score(lr_classifier, X, y, cv=5)\n",
    "print(list(scores))\n",
    "print(f\"Logistic Accuracy: {scores.mean() * 100:.2f}% +/- ({scores.std() * 100:.2f})\")"
   ]
  },
  {
   "cell_type": "markdown",
   "metadata": {},
   "source": [
    "## Random Forest"
   ]
  },
  {
   "cell_type": "code",
   "execution_count": 32,
   "metadata": {},
   "outputs": [
    {
     "name": "stdout",
     "output_type": "stream",
     "text": [
      "Train Result:\n",
      "================================================\n",
      "Accuracy Score: 98.78%\n",
      "_______________________________________________\n",
      "Classification Report:\tPrecision Score: 99.09%\n",
      "\t\t\tRecall Score: 98.20%\n",
      "\t\t\tF1 score: 98.64%\n",
      "_______________________________________________\n",
      "Confusion Matrix: \n",
      " [[266   2]\n",
      " [  4 218]]\n",
      "\n",
      "Test Result:\n",
      "================================================\n",
      "Accuracy Score: 70.48%\n",
      "_______________________________________________\n",
      "Classification Report:\tPrecision Score: 67.33%\n",
      "\t\t\tRecall Score: 70.10%\n",
      "\t\t\tF1 score: 68.69%\n",
      "_______________________________________________\n",
      "Confusion Matrix: \n",
      " [[80 33]\n",
      " [29 68]]\n",
      "\n"
     ]
    }
   ],
   "source": [
    "from sklearn.ensemble import RandomForestClassifier\n",
    "\n",
    "rand_forest = RandomForestClassifier(n_estimators=1500)\n",
    "rand_forest.fit(X_train, y_train)\n",
    "\n",
    "print_score(rand_forest, X_train, y_train, X_test, y_test, train=True)\n",
    "print_score(rand_forest, X_train, y_train, X_test, y_test, train=False)"
   ]
  },
  {
   "cell_type": "code",
   "execution_count": 33,
   "metadata": {},
   "outputs": [],
   "source": [
    "from sklearn.model_selection import GridSearchCV\n",
    "\n",
    "rf_clf = RandomForestClassifier(n_estimators=100)\n",
    "\n",
    "param_grid = {'n_estimators':[100, 500, 1000, 1500],\n",
    "              'max_depth':[3, 5, 7, 10, 15, None], \n",
    "              'min_samples_split':[2, 3, 10], \n",
    "              'min_samples_leaf':[1, 3, 5, 7, 10], \n",
    "              'criterion':[\"gini\", \"entropy\"], \n",
    "              'bootstrap':[True, False]}\n",
    "\n",
    "rf_grid_cv = GridSearchCV(rf_clf, param_grid, scoring=\"accuracy\", n_jobs=-1, verbose=1, cv=3)\n",
    "# rf_grid_cv.fit(X_train, y_train)"
   ]
  },
  {
   "cell_type": "code",
   "execution_count": 34,
   "metadata": {},
   "outputs": [],
   "source": [
    "# rf_grid_cv.best_estimator_"
   ]
  },
  {
   "cell_type": "code",
   "execution_count": 35,
   "metadata": {},
   "outputs": [
    {
     "name": "stdout",
     "output_type": "stream",
     "text": [
      "Train Result:\n",
      "================================================\n",
      "Accuracy Score: 85.92%\n",
      "_______________________________________________\n",
      "Classification Report:\tPrecision Score: 86.26%\n",
      "\t\t\tRecall Score: 81.98%\n",
      "\t\t\tF1 score: 84.06%\n",
      "_______________________________________________\n",
      "Confusion Matrix: \n",
      " [[239  29]\n",
      " [ 40 182]]\n",
      "\n",
      "Test Result:\n",
      "================================================\n",
      "Accuracy Score: 70.95%\n",
      "_______________________________________________\n",
      "Classification Report:\tPrecision Score: 68.00%\n",
      "\t\t\tRecall Score: 70.10%\n",
      "\t\t\tF1 score: 69.04%\n",
      "_______________________________________________\n",
      "Confusion Matrix: \n",
      " [[81 32]\n",
      " [29 68]]\n",
      "\n"
     ]
    }
   ],
   "source": [
    "rf_clf = RandomForestClassifier(criterion='gini',\n",
    "                                max_depth=10,\n",
    "                                min_samples_leaf=3, \n",
    "                                min_samples_split=3,\n",
    "                                n_estimators=100, \n",
    "                                bootstrap=True)\n",
    "\n",
    "rf_clf.fit(X_train, y_train)\n",
    "print_score(rf_clf, X_train, y_train, X_test, y_test, train=True)\n",
    "print_score(rf_clf, X_train, y_train, X_test, y_test, train=False)"
   ]
  },
  {
   "cell_type": "markdown",
   "metadata": {},
   "source": [
    "### Cross Validation Score for Random Forest Classifier"
   ]
  },
  {
   "cell_type": "code",
   "execution_count": 36,
   "metadata": {},
   "outputs": [
    {
     "name": "stdout",
     "output_type": "stream",
     "text": [
      "[0.7264957264957265, 0.6437768240343348, 0.6652360515021459]\n",
      "Random Forest F1_score: 67.85% +/- (3.50)\n"
     ]
    }
   ],
   "source": [
    "scores = cross_val_score(rf_clf, X, y, cv=3, scoring='accuracy')\n",
    "print(list(scores))\n",
    "print(f\"Random Forest F1_score: {scores.mean() * 100:.2f}% +/- ({scores.std() * 100:.2f})\")"
   ]
  },
  {
   "cell_type": "markdown",
   "metadata": {},
   "source": [
    "## XGBoost Classifier"
   ]
  },
  {
   "cell_type": "code",
   "execution_count": 37,
   "metadata": {},
   "outputs": [
    {
     "name": "stdout",
     "output_type": "stream",
     "text": [
      "Train Result:\n",
      "================================================\n",
      "Accuracy Score: 83.67%\n",
      "_______________________________________________\n",
      "Classification Report:\tPrecision Score: 83.49%\n",
      "\t\t\tRecall Score: 79.73%\n",
      "\t\t\tF1 score: 81.57%\n",
      "_______________________________________________\n",
      "Confusion Matrix: \n",
      " [[233  35]\n",
      " [ 45 177]]\n",
      "\n",
      "Test Result:\n",
      "================================================\n",
      "Accuracy Score: 67.62%\n",
      "_______________________________________________\n",
      "Classification Report:\tPrecision Score: 65.93%\n",
      "\t\t\tRecall Score: 61.86%\n",
      "\t\t\tF1 score: 63.83%\n",
      "_______________________________________________\n",
      "Confusion Matrix: \n",
      " [[82 31]\n",
      " [37 60]]\n",
      "\n"
     ]
    }
   ],
   "source": [
    "from xgboost import XGBClassifier\n",
    "\n",
    "xgb_clf = XGBClassifier()\n",
    "xgb_clf.fit(X_train, y_train)\n",
    "\n",
    "print_score(xgb_clf, X_train, y_train, X_test, y_test, train=True)\n",
    "print_score(xgb_clf, X_train, y_train, X_test, y_test, train=False)"
   ]
  },
  {
   "cell_type": "code",
   "execution_count": 39,
   "metadata": {},
   "outputs": [],
   "source": [
    "from sklearn.model_selection import RandomizedSearchCV\n",
    "\n",
    "xgb_clf = XGBClassifier()\n",
    "\n",
    "hyperparameter_grid = {'colsample_bytree': [ 0.5, 0.75, 0.85, 0.9, 1], \n",
    "                       'colsample_bylevel': [ 0.5, 0.75, 0.85, 0.9, 1],\n",
    "                       'colsample_bynode': [ 0.5, 0.75, 0.85, 0.9, 1],\n",
    "                       'learning_rate' : [0.01, 0.5, 0.1], \n",
    "                       'n_estimators': [100, 350, 500],\n",
    "                       'min_child_weight' : [2, 3, 5, 10],\n",
    "                       'max_depth': [3, 5, 10, 15], \n",
    "                       'base_score' : [0.1, 0.5, 0.9]\n",
    "                      }\n",
    "\n",
    "xgb_grid_cv = GridSearchCV(xgb_clf, hyperparameter_grid, scoring=\"accuracy\", \n",
    "                           n_jobs=-1, verbose=1, cv=3)\n",
    "# xgb_grid_cv.fit(X_train, y_train)"
   ]
  },
  {
   "cell_type": "code",
   "execution_count": 40,
   "metadata": {},
   "outputs": [],
   "source": [
    "# xgb_grid_cv.best_estimator_"
   ]
  },
  {
   "cell_type": "code",
   "execution_count": 41,
   "metadata": {},
   "outputs": [
    {
     "name": "stdout",
     "output_type": "stream",
     "text": [
      "Train Result:\n",
      "================================================\n",
      "Accuracy Score: 89.39%\n",
      "_______________________________________________\n",
      "Classification Report:\tPrecision Score: 89.72%\n",
      "\t\t\tRecall Score: 86.49%\n",
      "\t\t\tF1 score: 88.07%\n",
      "_______________________________________________\n",
      "Confusion Matrix: \n",
      " [[246  22]\n",
      " [ 30 192]]\n",
      "\n",
      "Test Result:\n",
      "================================================\n",
      "Accuracy Score: 70.48%\n",
      "_______________________________________________\n",
      "Classification Report:\tPrecision Score: 67.68%\n",
      "\t\t\tRecall Score: 69.07%\n",
      "\t\t\tF1 score: 68.37%\n",
      "_______________________________________________\n",
      "Confusion Matrix: \n",
      " [[81 32]\n",
      " [30 67]]\n",
      "\n"
     ]
    }
   ],
   "source": [
    "xgb_clf = XGBClassifier(base_score=0.1, \n",
    "                        min_child_weight=2,\n",
    "                        max_depth=15,\n",
    "                        colsample_bytree=0.75,\n",
    "                        colsample_bylevel=0.5,\n",
    "                        colsample_bynode=0.5,\n",
    "                        learning_rate=0.1, \n",
    "                        n_estimators=100)\n",
    "\n",
    "xgb_clf.fit(X_train, y_train)\n",
    "print_score(xgb_clf, X_train, y_train, X_test, y_test, train=True)\n",
    "print_score(xgb_clf, X_train, y_train, X_test, y_test, train=False)"
   ]
  },
  {
   "cell_type": "markdown",
   "metadata": {},
   "source": [
    "### Cross Validation Score for XGBoost Classifier"
   ]
  },
  {
   "cell_type": "code",
   "execution_count": 43,
   "metadata": {},
   "outputs": [
    {
     "name": "stdout",
     "output_type": "stream",
     "text": [
      "[0.64957265 0.54935622 0.64377682]\n",
      "XGBoost F1_score: 61.42% +/- (4.59)\n"
     ]
    }
   ],
   "source": [
    "scores = cross_val_score(xgb_clf, X, y, cv=3, scoring='accuracy')\n",
    "print(scores)\n",
    "print(f\"XGBoost F1_score: {scores.mean() * 100:.2f}% +/- ({scores.std() * 100:.2f})\")"
   ]
  },
  {
   "cell_type": "markdown",
   "metadata": {},
   "source": [
    "# Save the model"
   ]
  },
  {
   "cell_type": "code",
   "execution_count": 44,
   "metadata": {},
   "outputs": [],
   "source": [
    "import pickle\n",
    "\n",
    "with open('model', 'wb') as file:\n",
    "    pickle.dump(xgb_clf, file)"
   ]
  }
 ],
 "metadata": {
  "kernelspec": {
   "display_name": "Python 3",
   "language": "python",
   "name": "python3"
  },
  "language_info": {
   "codemirror_mode": {
    "name": "ipython",
    "version": 3
   },
   "file_extension": ".py",
   "mimetype": "text/x-python",
   "name": "python",
   "nbconvert_exporter": "python",
   "pygments_lexer": "ipython3",
   "version": "3.7.3"
  }
 },
 "nbformat": 4,
 "nbformat_minor": 4
}

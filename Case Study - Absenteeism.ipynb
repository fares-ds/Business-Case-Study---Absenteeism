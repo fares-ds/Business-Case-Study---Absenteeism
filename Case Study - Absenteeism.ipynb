{
 "cells": [
  {
   "cell_type": "markdown",
   "metadata": {},
   "source": [
    "# Business Case Study: Employee Absenteeism\n",
    "\n",
    "The database was created with records of absenteeism at work from July 2007 to July 2010 at a courier company in Brazil.\n",
    "\n"
   ]
  },
  {
   "cell_type": "markdown",
   "metadata": {},
   "source": [
    "# The business Task\n",
    "\n",
    "The exercise will address `Absenteeism` at a company during work time.\n",
    "\n",
    "**Problem:** \n",
    "The problem is that the work environment of today is more:\n",
    "- Competitive\n",
    "- Managers set unachievable business goals\n",
    "- have an elevated risk of becoming unemployed\n",
    "This can be lead to an increase in pressure and stress of the employee. Those factors influence employee health, which is of course indesirable.\n",
    "\n",
    "### What is Absenteeism?\n",
    "Absence from work during normal working hours resulting in temporary incapacity to execute a regular working activity.\n",
    "\n",
    "- Based on what information should we predict whether an employee is expected to be absent or not?\n",
    "- How should we measure absenteeism?\n",
    "\n",
    "### Purpose of the business exercise:\n",
    "\n",
    "Explore whether a person presenting certain characteristics is expected to be away from work at some point in time or not.\n",
    "\n",
    "We want to know for how many working hours any employee could be away from work based on information like:\n",
    "- How far they live from their workplace.\n",
    "- How many children and pets they have.\n",
    "- Do they have higher education?"
   ]
  },
  {
   "cell_type": "code",
   "execution_count": 1,
   "metadata": {},
   "outputs": [],
   "source": [
    "import pandas as pd\n",
    "import numpy as np\n",
    "import matplotlib.pyplot as plt\n",
    "import seaborn as sns\n",
    "\n",
    "%matplotlib inline\n",
    "sns.set_style(\"whitegrid\")"
   ]
  },
  {
   "cell_type": "code",
   "execution_count": 2,
   "metadata": {},
   "outputs": [
    {
     "data": {
      "text/html": [
       "<div>\n",
       "<style scoped>\n",
       "    .dataframe tbody tr th:only-of-type {\n",
       "        vertical-align: middle;\n",
       "    }\n",
       "\n",
       "    .dataframe tbody tr th {\n",
       "        vertical-align: top;\n",
       "    }\n",
       "\n",
       "    .dataframe thead th {\n",
       "        text-align: right;\n",
       "    }\n",
       "</style>\n",
       "<table border=\"1\" class=\"dataframe\">\n",
       "  <thead>\n",
       "    <tr style=\"text-align: right;\">\n",
       "      <th></th>\n",
       "      <th>ID</th>\n",
       "      <th>Reason for Absence</th>\n",
       "      <th>Date</th>\n",
       "      <th>Transportation Expense</th>\n",
       "      <th>Distance to Work</th>\n",
       "      <th>Age</th>\n",
       "      <th>Daily Work Load Average</th>\n",
       "      <th>Body Mass Index</th>\n",
       "      <th>Education</th>\n",
       "      <th>Children</th>\n",
       "      <th>Pets</th>\n",
       "      <th>Absenteeism Time in Hours</th>\n",
       "    </tr>\n",
       "  </thead>\n",
       "  <tbody>\n",
       "    <tr>\n",
       "      <th>0</th>\n",
       "      <td>11</td>\n",
       "      <td>26</td>\n",
       "      <td>07/07/2015</td>\n",
       "      <td>289</td>\n",
       "      <td>36</td>\n",
       "      <td>33</td>\n",
       "      <td>239.554</td>\n",
       "      <td>30</td>\n",
       "      <td>1</td>\n",
       "      <td>2</td>\n",
       "      <td>1</td>\n",
       "      <td>4</td>\n",
       "    </tr>\n",
       "    <tr>\n",
       "      <th>1</th>\n",
       "      <td>36</td>\n",
       "      <td>0</td>\n",
       "      <td>14/07/2015</td>\n",
       "      <td>118</td>\n",
       "      <td>13</td>\n",
       "      <td>50</td>\n",
       "      <td>239.554</td>\n",
       "      <td>31</td>\n",
       "      <td>1</td>\n",
       "      <td>1</td>\n",
       "      <td>0</td>\n",
       "      <td>0</td>\n",
       "    </tr>\n",
       "    <tr>\n",
       "      <th>2</th>\n",
       "      <td>3</td>\n",
       "      <td>23</td>\n",
       "      <td>15/07/2015</td>\n",
       "      <td>179</td>\n",
       "      <td>51</td>\n",
       "      <td>38</td>\n",
       "      <td>239.554</td>\n",
       "      <td>31</td>\n",
       "      <td>1</td>\n",
       "      <td>0</td>\n",
       "      <td>0</td>\n",
       "      <td>2</td>\n",
       "    </tr>\n",
       "    <tr>\n",
       "      <th>3</th>\n",
       "      <td>7</td>\n",
       "      <td>7</td>\n",
       "      <td>16/07/2015</td>\n",
       "      <td>279</td>\n",
       "      <td>5</td>\n",
       "      <td>39</td>\n",
       "      <td>239.554</td>\n",
       "      <td>24</td>\n",
       "      <td>1</td>\n",
       "      <td>2</td>\n",
       "      <td>0</td>\n",
       "      <td>4</td>\n",
       "    </tr>\n",
       "    <tr>\n",
       "      <th>4</th>\n",
       "      <td>11</td>\n",
       "      <td>23</td>\n",
       "      <td>23/07/2015</td>\n",
       "      <td>289</td>\n",
       "      <td>36</td>\n",
       "      <td>33</td>\n",
       "      <td>239.554</td>\n",
       "      <td>30</td>\n",
       "      <td>1</td>\n",
       "      <td>2</td>\n",
       "      <td>1</td>\n",
       "      <td>2</td>\n",
       "    </tr>\n",
       "  </tbody>\n",
       "</table>\n",
       "</div>"
      ],
      "text/plain": [
       "   ID  Reason for Absence        Date  Transportation Expense  \\\n",
       "0  11                  26  07/07/2015                     289   \n",
       "1  36                   0  14/07/2015                     118   \n",
       "2   3                  23  15/07/2015                     179   \n",
       "3   7                   7  16/07/2015                     279   \n",
       "4  11                  23  23/07/2015                     289   \n",
       "\n",
       "   Distance to Work  Age  Daily Work Load Average  Body Mass Index  Education  \\\n",
       "0                36   33                  239.554               30          1   \n",
       "1                13   50                  239.554               31          1   \n",
       "2                51   38                  239.554               31          1   \n",
       "3                 5   39                  239.554               24          1   \n",
       "4                36   33                  239.554               30          1   \n",
       "\n",
       "   Children  Pets  Absenteeism Time in Hours  \n",
       "0         2     1                          4  \n",
       "1         1     0                          0  \n",
       "2         0     0                          2  \n",
       "3         2     0                          4  \n",
       "4         2     1                          2  "
      ]
     },
     "execution_count": 2,
     "metadata": {},
     "output_type": "execute_result"
    }
   ],
   "source": [
    "data = pd.read_csv('data/Absenteeism_data.csv')\n",
    "data.head()"
   ]
  },
  {
   "cell_type": "markdown",
   "metadata": {},
   "source": [
    "# 1. Getting aquainted with the dataset"
   ]
  },
  {
   "cell_type": "code",
   "execution_count": 3,
   "metadata": {},
   "outputs": [
    {
     "name": "stdout",
     "output_type": "stream",
     "text": [
      "<class 'pandas.core.frame.DataFrame'>\n",
      "RangeIndex: 700 entries, 0 to 699\n",
      "Data columns (total 12 columns):\n",
      "ID                           700 non-null int64\n",
      "Reason for Absence           700 non-null int64\n",
      "Date                         700 non-null object\n",
      "Transportation Expense       700 non-null int64\n",
      "Distance to Work             700 non-null int64\n",
      "Age                          700 non-null int64\n",
      "Daily Work Load Average      700 non-null float64\n",
      "Body Mass Index              700 non-null int64\n",
      "Education                    700 non-null int64\n",
      "Children                     700 non-null int64\n",
      "Pets                         700 non-null int64\n",
      "Absenteeism Time in Hours    700 non-null int64\n",
      "dtypes: float64(1), int64(10), object(1)\n",
      "memory usage: 65.8+ KB\n"
     ]
    }
   ],
   "source": [
    "data.info()"
   ]
  },
  {
   "cell_type": "markdown",
   "metadata": {},
   "source": [
    "The data doesn't have any missing values."
   ]
  },
  {
   "cell_type": "code",
   "execution_count": 4,
   "metadata": {},
   "outputs": [
    {
     "data": {
      "text/html": [
       "<div>\n",
       "<style scoped>\n",
       "    .dataframe tbody tr th:only-of-type {\n",
       "        vertical-align: middle;\n",
       "    }\n",
       "\n",
       "    .dataframe tbody tr th {\n",
       "        vertical-align: top;\n",
       "    }\n",
       "\n",
       "    .dataframe thead th {\n",
       "        text-align: right;\n",
       "    }\n",
       "</style>\n",
       "<table border=\"1\" class=\"dataframe\">\n",
       "  <thead>\n",
       "    <tr style=\"text-align: right;\">\n",
       "      <th></th>\n",
       "      <th>ID</th>\n",
       "      <th>Reason for Absence</th>\n",
       "      <th>Transportation Expense</th>\n",
       "      <th>Distance to Work</th>\n",
       "      <th>Age</th>\n",
       "      <th>Daily Work Load Average</th>\n",
       "      <th>Body Mass Index</th>\n",
       "      <th>Education</th>\n",
       "      <th>Children</th>\n",
       "      <th>Pets</th>\n",
       "      <th>Absenteeism Time in Hours</th>\n",
       "    </tr>\n",
       "  </thead>\n",
       "  <tbody>\n",
       "    <tr>\n",
       "      <th>count</th>\n",
       "      <td>700.00</td>\n",
       "      <td>700.00</td>\n",
       "      <td>700.00</td>\n",
       "      <td>700.00</td>\n",
       "      <td>700.00</td>\n",
       "      <td>700.00</td>\n",
       "      <td>700.00</td>\n",
       "      <td>700.00</td>\n",
       "      <td>700.00</td>\n",
       "      <td>700.00</td>\n",
       "      <td>700.00</td>\n",
       "    </tr>\n",
       "    <tr>\n",
       "      <th>mean</th>\n",
       "      <td>17.95</td>\n",
       "      <td>19.41</td>\n",
       "      <td>222.35</td>\n",
       "      <td>29.89</td>\n",
       "      <td>36.42</td>\n",
       "      <td>271.80</td>\n",
       "      <td>26.74</td>\n",
       "      <td>1.28</td>\n",
       "      <td>1.02</td>\n",
       "      <td>0.69</td>\n",
       "      <td>6.76</td>\n",
       "    </tr>\n",
       "    <tr>\n",
       "      <th>std</th>\n",
       "      <td>11.03</td>\n",
       "      <td>8.36</td>\n",
       "      <td>66.31</td>\n",
       "      <td>14.80</td>\n",
       "      <td>6.38</td>\n",
       "      <td>40.02</td>\n",
       "      <td>4.25</td>\n",
       "      <td>0.67</td>\n",
       "      <td>1.11</td>\n",
       "      <td>1.17</td>\n",
       "      <td>12.67</td>\n",
       "    </tr>\n",
       "    <tr>\n",
       "      <th>min</th>\n",
       "      <td>1.00</td>\n",
       "      <td>0.00</td>\n",
       "      <td>118.00</td>\n",
       "      <td>5.00</td>\n",
       "      <td>27.00</td>\n",
       "      <td>205.92</td>\n",
       "      <td>19.00</td>\n",
       "      <td>1.00</td>\n",
       "      <td>0.00</td>\n",
       "      <td>0.00</td>\n",
       "      <td>0.00</td>\n",
       "    </tr>\n",
       "    <tr>\n",
       "      <th>25%</th>\n",
       "      <td>9.00</td>\n",
       "      <td>13.00</td>\n",
       "      <td>179.00</td>\n",
       "      <td>16.00</td>\n",
       "      <td>31.00</td>\n",
       "      <td>241.48</td>\n",
       "      <td>24.00</td>\n",
       "      <td>1.00</td>\n",
       "      <td>0.00</td>\n",
       "      <td>0.00</td>\n",
       "      <td>2.00</td>\n",
       "    </tr>\n",
       "    <tr>\n",
       "      <th>50%</th>\n",
       "      <td>18.00</td>\n",
       "      <td>23.00</td>\n",
       "      <td>225.00</td>\n",
       "      <td>26.00</td>\n",
       "      <td>37.00</td>\n",
       "      <td>264.25</td>\n",
       "      <td>25.00</td>\n",
       "      <td>1.00</td>\n",
       "      <td>1.00</td>\n",
       "      <td>0.00</td>\n",
       "      <td>3.00</td>\n",
       "    </tr>\n",
       "    <tr>\n",
       "      <th>75%</th>\n",
       "      <td>28.00</td>\n",
       "      <td>27.00</td>\n",
       "      <td>260.00</td>\n",
       "      <td>50.00</td>\n",
       "      <td>40.00</td>\n",
       "      <td>294.22</td>\n",
       "      <td>31.00</td>\n",
       "      <td>1.00</td>\n",
       "      <td>2.00</td>\n",
       "      <td>1.00</td>\n",
       "      <td>8.00</td>\n",
       "    </tr>\n",
       "    <tr>\n",
       "      <th>max</th>\n",
       "      <td>36.00</td>\n",
       "      <td>28.00</td>\n",
       "      <td>388.00</td>\n",
       "      <td>52.00</td>\n",
       "      <td>58.00</td>\n",
       "      <td>378.88</td>\n",
       "      <td>38.00</td>\n",
       "      <td>4.00</td>\n",
       "      <td>4.00</td>\n",
       "      <td>8.00</td>\n",
       "      <td>120.00</td>\n",
       "    </tr>\n",
       "  </tbody>\n",
       "</table>\n",
       "</div>"
      ],
      "text/plain": [
       "          ID  Reason for Absence  Transportation Expense  Distance to Work  \\\n",
       "count 700.00              700.00                  700.00            700.00   \n",
       "mean   17.95               19.41                  222.35             29.89   \n",
       "std    11.03                8.36                   66.31             14.80   \n",
       "min     1.00                0.00                  118.00              5.00   \n",
       "25%     9.00               13.00                  179.00             16.00   \n",
       "50%    18.00               23.00                  225.00             26.00   \n",
       "75%    28.00               27.00                  260.00             50.00   \n",
       "max    36.00               28.00                  388.00             52.00   \n",
       "\n",
       "         Age  Daily Work Load Average  Body Mass Index  Education  Children  \\\n",
       "count 700.00                   700.00           700.00     700.00    700.00   \n",
       "mean   36.42                   271.80            26.74       1.28      1.02   \n",
       "std     6.38                    40.02             4.25       0.67      1.11   \n",
       "min    27.00                   205.92            19.00       1.00      0.00   \n",
       "25%    31.00                   241.48            24.00       1.00      0.00   \n",
       "50%    37.00                   264.25            25.00       1.00      1.00   \n",
       "75%    40.00                   294.22            31.00       1.00      2.00   \n",
       "max    58.00                   378.88            38.00       4.00      4.00   \n",
       "\n",
       "        Pets  Absenteeism Time in Hours  \n",
       "count 700.00                     700.00  \n",
       "mean    0.69                       6.76  \n",
       "std     1.17                      12.67  \n",
       "min     0.00                       0.00  \n",
       "25%     0.00                       2.00  \n",
       "50%     0.00                       3.00  \n",
       "75%     1.00                       8.00  \n",
       "max     8.00                     120.00  "
      ]
     },
     "execution_count": 4,
     "metadata": {},
     "output_type": "execute_result"
    }
   ],
   "source": [
    "pd.set_option(\"display.float_format\", \"{:.2f}\".format)\n",
    "data.describe()"
   ]
  },
  {
   "cell_type": "code",
   "execution_count": 5,
   "metadata": {},
   "outputs": [
    {
     "name": "stdout",
     "output_type": "stream",
     "text": [
      "===============Column: ID==============\n",
      "Number of unique values: 34\n",
      "Max: 36\n",
      "Min: 1\n",
      "===============Column: Reason for Absence==============\n",
      "Number of unique values: 28\n",
      "Max: 28\n",
      "Min: 0\n",
      "===============Column: Date==============\n",
      "Number of unique values: 432\n",
      "Max: 31/10/2017\n",
      "Min: 01/01/2018\n",
      "===============Column: Transportation Expense==============\n",
      "Number of unique values: 24\n",
      "Max: 388\n",
      "Min: 118\n",
      "===============Column: Distance to Work==============\n",
      "Number of unique values: 24\n",
      "Max: 52\n",
      "Min: 5\n",
      "===============Column: Age==============\n",
      "Number of unique values: 21\n",
      "Max: 58\n",
      "Min: 27\n",
      "===============Column: Daily Work Load Average==============\n",
      "Number of unique values: 35\n",
      "Max: 378.884\n",
      "Min: 205.917\n",
      "===============Column: Body Mass Index==============\n",
      "Number of unique values: 16\n",
      "Max: 38\n",
      "Min: 19\n",
      "===============Column: Education==============\n",
      "Number of unique values: 4\n",
      "Max: 4\n",
      "Min: 1\n",
      "===============Column: Children==============\n",
      "Number of unique values: 5\n",
      "Max: 4\n",
      "Min: 0\n",
      "===============Column: Pets==============\n",
      "Number of unique values: 6\n",
      "Max: 8\n",
      "Min: 0\n",
      "===============Column: Absenteeism Time in Hours==============\n",
      "Number of unique values: 19\n",
      "Max: 120\n",
      "Min: 0\n"
     ]
    }
   ],
   "source": [
    "for column in data.columns:\n",
    "    print(f\"===============Column: {column}==============\")\n",
    "    print(f\"Number of unique values: {data[column].nunique()}\")\n",
    "    print(f\"Max: {data[column].max()}\")\n",
    "    print(f\"Min: {data[column].min()}\")"
   ]
  },
  {
   "cell_type": "code",
   "execution_count": 6,
   "metadata": {},
   "outputs": [
    {
     "data": {
      "text/plain": [
       "Index(['ID', 'Reason for Absence', 'Date', 'Transportation Expense',\n",
       "       'Distance to Work', 'Age', 'Daily Work Load Average', 'Body Mass Index',\n",
       "       'Education', 'Children', 'Pets', 'Absenteeism Time in Hours'],\n",
       "      dtype='object')"
      ]
     },
     "execution_count": 6,
     "metadata": {},
     "output_type": "execute_result"
    }
   ],
   "source": [
    "data.columns"
   ]
  },
  {
   "cell_type": "code",
   "execution_count": 7,
   "metadata": {},
   "outputs": [
    {
     "data": {
      "text/plain": [
       "<matplotlib.axes._subplots.AxesSubplot at 0x142e786c3c8>"
      ]
     },
     "execution_count": 7,
     "metadata": {},
     "output_type": "execute_result"
    },
    {
     "data": {
      "image/png": "[encoded data removed]",
      "text/plain": [
       "<Figure size 432x288 with 1 Axes>"
      ]
     },
     "metadata": {
      "needs_background": "light"
     },
     "output_type": "display_data"
    }
   ],
   "source": [
    "data.ID.value_counts().hist(bins=data.ID.nunique())"
   ]
  },
  {
   "cell_type": "markdown",
   "metadata": {},
   "source": [
    "`ID`: individual identification (in this case we have 34 employees) indicates precisely who has been away during working hours.  Will this information improve our analysis in any way? No, because it's only a label variable (a number that is there to distinguish the individuals from one another, not to carry any numeric information).\n",
    "\n",
    "So we are going to drop this column"
   ]
  },
  {
   "cell_type": "code",
   "execution_count": 8,
   "metadata": {},
   "outputs": [],
   "source": [
    "data.drop('ID', axis=1, inplace=True)"
   ]
  },
  {
   "cell_type": "markdown",
   "metadata": {},
   "source": [
    "`Reason for Absence`: We have `28` reason of absence from `0` to `28`."
   ]
  },
  {
   "cell_type": "markdown",
   "metadata": {},
   "source": [
    "# 2. Exploratory Data Analysis"
   ]
  },
  {
   "cell_type": "code",
   "execution_count": 9,
   "metadata": {},
   "outputs": [
    {
     "data": {
      "image/png": "[encoded data removed]",
      "text/plain": [
       "<Figure size 1440x1440 with 12 Axes>"
      ]
     },
     "metadata": {
      "needs_background": "light"
     },
     "output_type": "display_data"
    }
   ],
   "source": [
    "# Visulazing the distibution of the data for every feature\n",
    "data.hist(edgecolor='black', linewidth=1.2, figsize=(20, 20));"
   ]
  },
  {
   "cell_type": "code",
   "execution_count": 10,
   "metadata": {},
   "outputs": [
    {
     "name": "stdout",
     "output_type": "stream",
     "text": [
      "8      195\n",
      "2      149\n",
      "3      106\n",
      "1       87\n",
      "4       57\n",
      "0       39\n",
      "16      18\n",
      "24      15\n",
      "40       7\n",
      "5        7\n",
      "32       6\n",
      "64       3\n",
      "112      2\n",
      "56       2\n",
      "80       2\n",
      "120      2\n",
      "48       1\n",
      "7        1\n",
      "104      1\n",
      "Name: Absenteeism Time in Hours, dtype: int64\n",
      "0.4482758620689655\n"
     ]
    }
   ],
   "source": [
    "print(f\"{data['Absenteeism Time in Hours'].value_counts()}\")\n",
    "print(f\"{data['Absenteeism Time in Hours'].value_counts()[0] / data['Absenteeism Time in Hours'].value_counts()[1]}\")"
   ]
  },
  {
   "cell_type": "code",
   "execution_count": 11,
   "metadata": {},
   "outputs": [
    {
     "data": {
      "text/plain": [
       "array([3, 0, 2, 1], dtype=int64)"
      ]
     },
     "execution_count": 11,
     "metadata": {},
     "output_type": "execute_result"
    }
   ],
   "source": [
    "data[\"Reason for Absence\"] = data[\"Reason for Absence\"].map({0: \"Group_1\", 1: \"Group_1\", 2: \"Group_1\", 3: \"Group_1\", \n",
    "                                                             4: \"Group_1\", 5: \"Group_1\", 6: \"Group_1\", 7: \"Group_1\", \n",
    "                                                             8: \"Group_1\", 9: \"Group_1\", 10: \"Group_1\", 11: \"Group_1\", \n",
    "                                                             12: \"Group_1\", 13: \"Group_1\", 14: \"Group_1\", 15: \"Group_2\", \n",
    "                                                             16: \"Group_2\", 17: \"Group_2\", 17: \"Group_2\", 18: \"Group_3\", \n",
    "                                                             19: \"Group_3\", 20: \"Group_3\", 21: \"Group_3\", 22: \"Group_4\", \n",
    "                                                             23: \"Group_4\", 24: \"Group_4\", 25: \"Group_4\", 26: \"Group_4\", \n",
    "                                                             27: \"Group_4\", 28: \"Group_4\"})\n",
    "data[\"Reason for Absence\"] = data[\"Reason for Absence\"].astype(\"category\").cat.codes\n",
    "data[\"Reason for Absence\"].unique()"
   ]
  },
  {
   "cell_type": "code",
   "execution_count": 12,
   "metadata": {},
   "outputs": [],
   "source": [
    "data_1 = pd.get_dummies(data, columns=['Reason for Absence'], drop_first=True)"
   ]
  },
  {
   "cell_type": "code",
   "execution_count": 13,
   "metadata": {},
   "outputs": [
    {
     "data": {
      "text/html": [
       "<div>\n",
       "<style scoped>\n",
       "    .dataframe tbody tr th:only-of-type {\n",
       "        vertical-align: middle;\n",
       "    }\n",
       "\n",
       "    .dataframe tbody tr th {\n",
       "        vertical-align: top;\n",
       "    }\n",
       "\n",
       "    .dataframe thead th {\n",
       "        text-align: right;\n",
       "    }\n",
       "</style>\n",
       "<table border=\"1\" class=\"dataframe\">\n",
       "  <thead>\n",
       "    <tr style=\"text-align: right;\">\n",
       "      <th></th>\n",
       "      <th>Date</th>\n",
       "      <th>Transportation Expense</th>\n",
       "      <th>Distance to Work</th>\n",
       "      <th>Age</th>\n",
       "      <th>Daily Work Load Average</th>\n",
       "      <th>Body Mass Index</th>\n",
       "      <th>Education</th>\n",
       "      <th>Children</th>\n",
       "      <th>Pets</th>\n",
       "      <th>Absenteeism Time in Hours</th>\n",
       "      <th>Reason for Absence_1</th>\n",
       "      <th>Reason for Absence_2</th>\n",
       "      <th>Reason for Absence_3</th>\n",
       "    </tr>\n",
       "  </thead>\n",
       "  <tbody>\n",
       "    <tr>\n",
       "      <th>0</th>\n",
       "      <td>07/07/2015</td>\n",
       "      <td>289</td>\n",
       "      <td>36</td>\n",
       "      <td>33</td>\n",
       "      <td>239.55</td>\n",
       "      <td>30</td>\n",
       "      <td>1</td>\n",
       "      <td>2</td>\n",
       "      <td>1</td>\n",
       "      <td>4</td>\n",
       "      <td>0</td>\n",
       "      <td>0</td>\n",
       "      <td>1</td>\n",
       "    </tr>\n",
       "    <tr>\n",
       "      <th>1</th>\n",
       "      <td>14/07/2015</td>\n",
       "      <td>118</td>\n",
       "      <td>13</td>\n",
       "      <td>50</td>\n",
       "      <td>239.55</td>\n",
       "      <td>31</td>\n",
       "      <td>1</td>\n",
       "      <td>1</td>\n",
       "      <td>0</td>\n",
       "      <td>0</td>\n",
       "      <td>0</td>\n",
       "      <td>0</td>\n",
       "      <td>0</td>\n",
       "    </tr>\n",
       "    <tr>\n",
       "      <th>2</th>\n",
       "      <td>15/07/2015</td>\n",
       "      <td>179</td>\n",
       "      <td>51</td>\n",
       "      <td>38</td>\n",
       "      <td>239.55</td>\n",
       "      <td>31</td>\n",
       "      <td>1</td>\n",
       "      <td>0</td>\n",
       "      <td>0</td>\n",
       "      <td>2</td>\n",
       "      <td>0</td>\n",
       "      <td>0</td>\n",
       "      <td>1</td>\n",
       "    </tr>\n",
       "    <tr>\n",
       "      <th>3</th>\n",
       "      <td>16/07/2015</td>\n",
       "      <td>279</td>\n",
       "      <td>5</td>\n",
       "      <td>39</td>\n",
       "      <td>239.55</td>\n",
       "      <td>24</td>\n",
       "      <td>1</td>\n",
       "      <td>2</td>\n",
       "      <td>0</td>\n",
       "      <td>4</td>\n",
       "      <td>0</td>\n",
       "      <td>0</td>\n",
       "      <td>0</td>\n",
       "    </tr>\n",
       "    <tr>\n",
       "      <th>4</th>\n",
       "      <td>23/07/2015</td>\n",
       "      <td>289</td>\n",
       "      <td>36</td>\n",
       "      <td>33</td>\n",
       "      <td>239.55</td>\n",
       "      <td>30</td>\n",
       "      <td>1</td>\n",
       "      <td>2</td>\n",
       "      <td>1</td>\n",
       "      <td>2</td>\n",
       "      <td>0</td>\n",
       "      <td>0</td>\n",
       "      <td>1</td>\n",
       "    </tr>\n",
       "  </tbody>\n",
       "</table>\n",
       "</div>"
      ],
      "text/plain": [
       "         Date  Transportation Expense  Distance to Work  Age  \\\n",
       "0  07/07/2015                     289                36   33   \n",
       "1  14/07/2015                     118                13   50   \n",
       "2  15/07/2015                     179                51   38   \n",
       "3  16/07/2015                     279                 5   39   \n",
       "4  23/07/2015                     289                36   33   \n",
       "\n",
       "   Daily Work Load Average  Body Mass Index  Education  Children  Pets  \\\n",
       "0                   239.55               30          1         2     1   \n",
       "1                   239.55               31          1         1     0   \n",
       "2                   239.55               31          1         0     0   \n",
       "3                   239.55               24          1         2     0   \n",
       "4                   239.55               30          1         2     1   \n",
       "\n",
       "   Absenteeism Time in Hours  Reason for Absence_1  Reason for Absence_2  \\\n",
       "0                          4                     0                     0   \n",
       "1                          0                     0                     0   \n",
       "2                          2                     0                     0   \n",
       "3                          4                     0                     0   \n",
       "4                          2                     0                     0   \n",
       "\n",
       "   Reason for Absence_3  \n",
       "0                     1  \n",
       "1                     0  \n",
       "2                     1  \n",
       "3                     0  \n",
       "4                     1  "
      ]
     },
     "execution_count": 13,
     "metadata": {},
     "output_type": "execute_result"
    }
   ],
   "source": [
    "data_1.head()"
   ]
  },
  {
   "cell_type": "code",
   "execution_count": 14,
   "metadata": {},
   "outputs": [
    {
     "data": {
      "text/plain": [
       "Date                          object\n",
       "Transportation Expense         int64\n",
       "Distance to Work               int64\n",
       "Age                            int64\n",
       "Daily Work Load Average      float64\n",
       "Body Mass Index                int64\n",
       "Education                      int64\n",
       "Children                       int64\n",
       "Pets                           int64\n",
       "Absenteeism Time in Hours      int64\n",
       "Reason for Absence_1           uint8\n",
       "Reason for Absence_2           uint8\n",
       "Reason for Absence_3           uint8\n",
       "dtype: object"
      ]
     },
     "execution_count": 14,
     "metadata": {},
     "output_type": "execute_result"
    }
   ],
   "source": [
    "data_1.dtypes"
   ]
  },
  {
   "cell_type": "code",
   "execution_count": 15,
   "metadata": {},
   "outputs": [],
   "source": [
    "data_1[\"Date\"] = pd.to_datetime(data_1.Date)"
   ]
  },
  {
   "cell_type": "code",
   "execution_count": 16,
   "metadata": {},
   "outputs": [
    {
     "data": {
      "text/plain": [
       "<matplotlib.axes._subplots.AxesSubplot at 0x142e684c160>"
      ]
     },
     "execution_count": 16,
     "metadata": {},
     "output_type": "execute_result"
    },
    {
     "data": {
      "image/png": "[encoded data removed]",
      "text/plain": [
       "<Figure size 432x288 with 1 Axes>"
      ]
     },
     "metadata": {
      "needs_background": "light"
     },
     "output_type": "display_data"
    }
   ],
   "source": [
    "data_1.Date.hist()"
   ]
  },
  {
   "cell_type": "code",
   "execution_count": 17,
   "metadata": {},
   "outputs": [
    {
     "data": {
      "text/html": [
       "<div>\n",
       "<style scoped>\n",
       "    .dataframe tbody tr th:only-of-type {\n",
       "        vertical-align: middle;\n",
       "    }\n",
       "\n",
       "    .dataframe tbody tr th {\n",
       "        vertical-align: top;\n",
       "    }\n",
       "\n",
       "    .dataframe thead th {\n",
       "        text-align: right;\n",
       "    }\n",
       "</style>\n",
       "<table border=\"1\" class=\"dataframe\">\n",
       "  <thead>\n",
       "    <tr style=\"text-align: right;\">\n",
       "      <th></th>\n",
       "      <th>Date</th>\n",
       "      <th>Transportation Expense</th>\n",
       "      <th>Distance to Work</th>\n",
       "      <th>Age</th>\n",
       "      <th>Daily Work Load Average</th>\n",
       "      <th>Body Mass Index</th>\n",
       "      <th>Education</th>\n",
       "      <th>Children</th>\n",
       "      <th>Pets</th>\n",
       "      <th>Absenteeism Time in Hours</th>\n",
       "      <th>Reason for Absence_1</th>\n",
       "      <th>Reason for Absence_2</th>\n",
       "      <th>Reason for Absence_3</th>\n",
       "      <th>Month</th>\n",
       "    </tr>\n",
       "  </thead>\n",
       "  <tbody>\n",
       "    <tr>\n",
       "      <th>0</th>\n",
       "      <td>2015-07-07</td>\n",
       "      <td>289</td>\n",
       "      <td>36</td>\n",
       "      <td>33</td>\n",
       "      <td>239.55</td>\n",
       "      <td>30</td>\n",
       "      <td>1</td>\n",
       "      <td>2</td>\n",
       "      <td>1</td>\n",
       "      <td>4</td>\n",
       "      <td>0</td>\n",
       "      <td>0</td>\n",
       "      <td>1</td>\n",
       "      <td>7</td>\n",
       "    </tr>\n",
       "    <tr>\n",
       "      <th>1</th>\n",
       "      <td>2015-07-14</td>\n",
       "      <td>118</td>\n",
       "      <td>13</td>\n",
       "      <td>50</td>\n",
       "      <td>239.55</td>\n",
       "      <td>31</td>\n",
       "      <td>1</td>\n",
       "      <td>1</td>\n",
       "      <td>0</td>\n",
       "      <td>0</td>\n",
       "      <td>0</td>\n",
       "      <td>0</td>\n",
       "      <td>0</td>\n",
       "      <td>7</td>\n",
       "    </tr>\n",
       "    <tr>\n",
       "      <th>2</th>\n",
       "      <td>2015-07-15</td>\n",
       "      <td>179</td>\n",
       "      <td>51</td>\n",
       "      <td>38</td>\n",
       "      <td>239.55</td>\n",
       "      <td>31</td>\n",
       "      <td>1</td>\n",
       "      <td>0</td>\n",
       "      <td>0</td>\n",
       "      <td>2</td>\n",
       "      <td>0</td>\n",
       "      <td>0</td>\n",
       "      <td>1</td>\n",
       "      <td>7</td>\n",
       "    </tr>\n",
       "    <tr>\n",
       "      <th>3</th>\n",
       "      <td>2015-07-16</td>\n",
       "      <td>279</td>\n",
       "      <td>5</td>\n",
       "      <td>39</td>\n",
       "      <td>239.55</td>\n",
       "      <td>24</td>\n",
       "      <td>1</td>\n",
       "      <td>2</td>\n",
       "      <td>0</td>\n",
       "      <td>4</td>\n",
       "      <td>0</td>\n",
       "      <td>0</td>\n",
       "      <td>0</td>\n",
       "      <td>7</td>\n",
       "    </tr>\n",
       "    <tr>\n",
       "      <th>4</th>\n",
       "      <td>2015-07-23</td>\n",
       "      <td>289</td>\n",
       "      <td>36</td>\n",
       "      <td>33</td>\n",
       "      <td>239.55</td>\n",
       "      <td>30</td>\n",
       "      <td>1</td>\n",
       "      <td>2</td>\n",
       "      <td>1</td>\n",
       "      <td>2</td>\n",
       "      <td>0</td>\n",
       "      <td>0</td>\n",
       "      <td>1</td>\n",
       "      <td>7</td>\n",
       "    </tr>\n",
       "  </tbody>\n",
       "</table>\n",
       "</div>"
      ],
      "text/plain": [
       "        Date  Transportation Expense  Distance to Work  Age  \\\n",
       "0 2015-07-07                     289                36   33   \n",
       "1 2015-07-14                     118                13   50   \n",
       "2 2015-07-15                     179                51   38   \n",
       "3 2015-07-16                     279                 5   39   \n",
       "4 2015-07-23                     289                36   33   \n",
       "\n",
       "   Daily Work Load Average  Body Mass Index  Education  Children  Pets  \\\n",
       "0                   239.55               30          1         2     1   \n",
       "1                   239.55               31          1         1     0   \n",
       "2                   239.55               31          1         0     0   \n",
       "3                   239.55               24          1         2     0   \n",
       "4                   239.55               30          1         2     1   \n",
       "\n",
       "   Absenteeism Time in Hours  Reason for Absence_1  Reason for Absence_2  \\\n",
       "0                          4                     0                     0   \n",
       "1                          0                     0                     0   \n",
       "2                          2                     0                     0   \n",
       "3                          4                     0                     0   \n",
       "4                          2                     0                     0   \n",
       "\n",
       "   Reason for Absence_3  Month  \n",
       "0                     1      7  \n",
       "1                     0      7  \n",
       "2                     1      7  \n",
       "3                     0      7  \n",
       "4                     1      7  "
      ]
     },
     "execution_count": 17,
     "metadata": {},
     "output_type": "execute_result"
    }
   ],
   "source": [
    "data_1['Month'] = data_1.Date.dt.month\n",
    "data_1.head()"
   ]
  },
  {
   "cell_type": "code",
   "execution_count": 18,
   "metadata": {},
   "outputs": [
    {
     "data": {
      "text/plain": [
       "0      1\n",
       "1      1\n",
       "2      2\n",
       "3      3\n",
       "4      3\n",
       "      ..\n",
       "695    2\n",
       "696    2\n",
       "697    3\n",
       "698    3\n",
       "699    3\n",
       "Name: Weekday, Length: 700, dtype: int64"
      ]
     },
     "execution_count": 18,
     "metadata": {},
     "output_type": "execute_result"
    }
   ],
   "source": [
    "data_1[\"Weekday\"] = data_1.Date.dt.weekday\n",
    "data_1[\"Weekday\"]"
   ]
  },
  {
   "cell_type": "code",
   "execution_count": 19,
   "metadata": {},
   "outputs": [
    {
     "data": {
      "text/plain": [
       "Date                         datetime64[ns]\n",
       "Transportation Expense                int64\n",
       "Distance to Work                      int64\n",
       "Age                                   int64\n",
       "Daily Work Load Average             float64\n",
       "Body Mass Index                       int64\n",
       "Education                             int64\n",
       "Children                              int64\n",
       "Pets                                  int64\n",
       "Absenteeism Time in Hours             int64\n",
       "Reason for Absence_1                  uint8\n",
       "Reason for Absence_2                  uint8\n",
       "Reason for Absence_3                  uint8\n",
       "Month                                 int64\n",
       "Weekday                               int64\n",
       "dtype: object"
      ]
     },
     "execution_count": 19,
     "metadata": {},
     "output_type": "execute_result"
    }
   ],
   "source": [
    "data_1.dtypes"
   ]
  },
  {
   "cell_type": "code",
   "execution_count": 20,
   "metadata": {},
   "outputs": [],
   "source": [
    "data_1[\"Education\"] = data_1.Education.map({1: 0, 2: 1, 3: 1, 4: 1})"
   ]
  },
  {
   "cell_type": "code",
   "execution_count": 21,
   "metadata": {},
   "outputs": [
    {
     "data": {
      "text/plain": [
       "0    583\n",
       "1    117\n",
       "Name: Education, dtype: int64"
      ]
     },
     "execution_count": 21,
     "metadata": {},
     "output_type": "execute_result"
    }
   ],
   "source": [
    "data_1.Education.value_counts()"
   ]
  },
  {
   "cell_type": "code",
   "execution_count": 25,
   "metadata": {},
   "outputs": [
    {
     "data": {
      "text/plain": [
       "array([0, 1], dtype=int64)"
      ]
     },
     "execution_count": 25,
     "metadata": {},
     "output_type": "execute_result"
    }
   ],
   "source": [
    "data_1.Education.unique()"
   ]
  },
  {
   "cell_type": "code",
   "execution_count": 24,
   "metadata": {},
   "outputs": [
    {
     "data": {
      "text/plain": [
       "Index(['Date', 'Transportation Expense', 'Distance to Work', 'Age',\n",
       "       'Daily Work Load Average', 'Body Mass Index', 'Children', 'Pets',\n",
       "       'Absenteeism Time in Hours', 'Reason for Absence_1',\n",
       "       'Reason for Absence_2', 'Reason for Absence_3', 'Month', 'Weekday',\n",
       "       'Education_0', 'Education_1'],\n",
       "      dtype='object')"
      ]
     },
     "execution_count": 24,
     "metadata": {},
     "output_type": "execute_result"
    }
   ],
   "source": [
    "data_2 = pd.get_dummies(data_1, columns=[\"Education\"])\n",
    "data_2.columns"
   ]
  },
  {
   "cell_type": "code",
   "execution_count": null,
   "metadata": {},
   "outputs": [],
   "source": []
  }
 ],
 "metadata": {
  "kernelspec": {
   "display_name": "Python 3",
   "language": "python",
   "name": "python3"
  },
  "language_info": {
   "codemirror_mode": {
    "name": "ipython",
    "version": 3
   },
   "file_extension": ".py",
   "mimetype": "text/x-python",
   "name": "python",
   "nbconvert_exporter": "python",
   "pygments_lexer": "ipython3",
   "version": "3.7.0"
  }
 },
 "nbformat": 4,
 "nbformat_minor": 2
}
